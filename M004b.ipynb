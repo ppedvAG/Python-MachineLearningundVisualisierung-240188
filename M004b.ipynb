{
 "cells": [
  {
   "cell_type": "markdown",
   "id": "6d93a470-0597-4f8a-a8a8-0ce8585c0cdc",
   "metadata": {},
   "source": [
    "### Weitere Pandas Funktionen"
   ]
  },
  {
   "cell_type": "markdown",
   "id": "0e3e9c21-0315-4904-987b-a89f7a2cfa56",
   "metadata": {},
   "source": [
    "#### Daten speichern"
   ]
  },
  {
   "cell_type": "code",
   "execution_count": 52,
   "id": "d2e84133-f06c-45c2-ac9e-d29124d9c17a",
   "metadata": {},
   "outputs": [],
   "source": [
    "import pandas as pd\n",
    "import matplotlib.pyplot as plt\n",
    "import numpy as np"
   ]
  },
  {
   "cell_type": "code",
   "execution_count": 53,
   "id": "adc9d4a8-b741-4fe2-b704-5df6be4e5b19",
   "metadata": {},
   "outputs": [],
   "source": [
    "data = pd.read_csv(\"Data/AmazonStock.csv\")"
   ]
  },
  {
   "cell_type": "code",
   "execution_count": 54,
   "id": "6f92dfc9-8129-46f8-a7f1-43969b04bbd5",
   "metadata": {},
   "outputs": [],
   "source": [
    "data.to_csv(\"Data/AmazonStockFertig.csv\")"
   ]
  },
  {
   "cell_type": "markdown",
   "id": "dbab0f25-44f7-442b-ac3c-e349476a06d3",
   "metadata": {},
   "source": [
    "#### Weitere Datenquellen\n",
    "\n",
    "API, SQL, ..."
   ]
  },
  {
   "cell_type": "code",
   "execution_count": 55,
   "id": "345a1b2b-6c49-4ad6-b15d-bc0ebb2d771c",
   "metadata": {},
   "outputs": [],
   "source": [
    "import pyodbc as db"
   ]
  },
  {
   "cell_type": "code",
   "execution_count": 56,
   "id": "ee271e73-f9f3-4796-adb8-4b29814217e7",
   "metadata": {},
   "outputs": [],
   "source": [
    "connection = db.connect(\"Driver={SQL Server Native Client 11.0};Server=WIN10-LK3;Database=Northwind;Trusted_Connection=yes;\")"
   ]
  },
  {
   "cell_type": "code",
   "execution_count": 57,
   "id": "8c0057c8-29d5-4827-9b7b-ff80c8ba5be9",
   "metadata": {},
   "outputs": [
    {
     "name": "stderr",
     "output_type": "stream",
     "text": [
      "C:\\Users\\lk3\\AppData\\Local\\Temp\\ipykernel_13824\\1136684877.py:1: UserWarning: pandas only supports SQLAlchemy connectable (engine/connection) or database string URI or sqlite3 DBAPI2 connection. Other DBAPI2 objects are not tested. Please consider using SQLAlchemy.\n",
      "  data = pd.read_sql(con=connection, sql=\"SELECT * FROM Orders\")\n"
     ]
    }
   ],
   "source": [
    "data = pd.read_sql(con=connection, sql=\"SELECT * FROM Orders\")"
   ]
  },
  {
   "cell_type": "code",
   "execution_count": 58,
   "id": "78ee70de-d4e8-48f7-9863-ce5d4055014d",
   "metadata": {},
   "outputs": [
    {
     "data": {
      "text/html": [
       "<div>\n",
       "<style scoped>\n",
       "    .dataframe tbody tr th:only-of-type {\n",
       "        vertical-align: middle;\n",
       "    }\n",
       "\n",
       "    .dataframe tbody tr th {\n",
       "        vertical-align: top;\n",
       "    }\n",
       "\n",
       "    .dataframe thead th {\n",
       "        text-align: right;\n",
       "    }\n",
       "</style>\n",
       "<table border=\"1\" class=\"dataframe\">\n",
       "  <thead>\n",
       "    <tr style=\"text-align: right;\">\n",
       "      <th></th>\n",
       "      <th>OrderID</th>\n",
       "      <th>CustomerID</th>\n",
       "      <th>EmployeeID</th>\n",
       "      <th>OrderDate</th>\n",
       "      <th>RequiredDate</th>\n",
       "      <th>ShippedDate</th>\n",
       "      <th>ShipVia</th>\n",
       "      <th>Freight</th>\n",
       "      <th>ShipName</th>\n",
       "      <th>ShipAddress</th>\n",
       "      <th>ShipCity</th>\n",
       "      <th>ShipRegion</th>\n",
       "      <th>ShipPostalCode</th>\n",
       "      <th>ShipCountry</th>\n",
       "    </tr>\n",
       "  </thead>\n",
       "  <tbody>\n",
       "    <tr>\n",
       "      <th>0</th>\n",
       "      <td>10248</td>\n",
       "      <td>VINET</td>\n",
       "      <td>5</td>\n",
       "      <td>1996-07-04</td>\n",
       "      <td>1996-08-01</td>\n",
       "      <td>1996-07-16</td>\n",
       "      <td>3</td>\n",
       "      <td>32.38</td>\n",
       "      <td>Vins et alcools Chevalier</td>\n",
       "      <td>59 rue de l'Abbaye</td>\n",
       "      <td>Reims</td>\n",
       "      <td>None</td>\n",
       "      <td>51100</td>\n",
       "      <td>France</td>\n",
       "    </tr>\n",
       "    <tr>\n",
       "      <th>1</th>\n",
       "      <td>10249</td>\n",
       "      <td>TOMSP</td>\n",
       "      <td>6</td>\n",
       "      <td>1996-07-05</td>\n",
       "      <td>1996-08-16</td>\n",
       "      <td>1996-07-10</td>\n",
       "      <td>1</td>\n",
       "      <td>11.61</td>\n",
       "      <td>Toms Spezialitäten</td>\n",
       "      <td>Luisenstr. 48</td>\n",
       "      <td>Münster</td>\n",
       "      <td>None</td>\n",
       "      <td>44087</td>\n",
       "      <td>Germany</td>\n",
       "    </tr>\n",
       "    <tr>\n",
       "      <th>2</th>\n",
       "      <td>10250</td>\n",
       "      <td>HANAR</td>\n",
       "      <td>4</td>\n",
       "      <td>1996-07-08</td>\n",
       "      <td>1996-08-05</td>\n",
       "      <td>1996-07-12</td>\n",
       "      <td>2</td>\n",
       "      <td>65.83</td>\n",
       "      <td>Hanari Carnes</td>\n",
       "      <td>Rua do Paço, 67</td>\n",
       "      <td>Rio de Janeiro</td>\n",
       "      <td>RJ</td>\n",
       "      <td>05454-876</td>\n",
       "      <td>Brazil</td>\n",
       "    </tr>\n",
       "    <tr>\n",
       "      <th>3</th>\n",
       "      <td>10251</td>\n",
       "      <td>VICTE</td>\n",
       "      <td>3</td>\n",
       "      <td>1996-07-08</td>\n",
       "      <td>1996-08-05</td>\n",
       "      <td>1996-07-15</td>\n",
       "      <td>1</td>\n",
       "      <td>41.34</td>\n",
       "      <td>Victuailles en stock</td>\n",
       "      <td>2, rue du Commerce</td>\n",
       "      <td>Lyon</td>\n",
       "      <td>None</td>\n",
       "      <td>69004</td>\n",
       "      <td>France</td>\n",
       "    </tr>\n",
       "    <tr>\n",
       "      <th>4</th>\n",
       "      <td>10252</td>\n",
       "      <td>SUPRD</td>\n",
       "      <td>4</td>\n",
       "      <td>1996-07-09</td>\n",
       "      <td>1996-08-06</td>\n",
       "      <td>1996-07-11</td>\n",
       "      <td>2</td>\n",
       "      <td>51.30</td>\n",
       "      <td>Suprêmes délices</td>\n",
       "      <td>Boulevard Tirou, 255</td>\n",
       "      <td>Charleroi</td>\n",
       "      <td>None</td>\n",
       "      <td>B-6000</td>\n",
       "      <td>Belgium</td>\n",
       "    </tr>\n",
       "    <tr>\n",
       "      <th>...</th>\n",
       "      <td>...</td>\n",
       "      <td>...</td>\n",
       "      <td>...</td>\n",
       "      <td>...</td>\n",
       "      <td>...</td>\n",
       "      <td>...</td>\n",
       "      <td>...</td>\n",
       "      <td>...</td>\n",
       "      <td>...</td>\n",
       "      <td>...</td>\n",
       "      <td>...</td>\n",
       "      <td>...</td>\n",
       "      <td>...</td>\n",
       "      <td>...</td>\n",
       "    </tr>\n",
       "    <tr>\n",
       "      <th>825</th>\n",
       "      <td>11073</td>\n",
       "      <td>PERIC</td>\n",
       "      <td>2</td>\n",
       "      <td>1998-05-05</td>\n",
       "      <td>1998-06-02</td>\n",
       "      <td>NaT</td>\n",
       "      <td>2</td>\n",
       "      <td>24.95</td>\n",
       "      <td>Pericles Comidas clásicas</td>\n",
       "      <td>Calle Dr. Jorge Cash 321</td>\n",
       "      <td>México D.F.</td>\n",
       "      <td>None</td>\n",
       "      <td>05033</td>\n",
       "      <td>Mexico</td>\n",
       "    </tr>\n",
       "    <tr>\n",
       "      <th>826</th>\n",
       "      <td>11074</td>\n",
       "      <td>SIMOB</td>\n",
       "      <td>7</td>\n",
       "      <td>1998-05-06</td>\n",
       "      <td>1998-06-03</td>\n",
       "      <td>NaT</td>\n",
       "      <td>2</td>\n",
       "      <td>18.44</td>\n",
       "      <td>Simons bistro</td>\n",
       "      <td>Vinbæltet 34</td>\n",
       "      <td>Kobenhavn</td>\n",
       "      <td>None</td>\n",
       "      <td>1734</td>\n",
       "      <td>Denmark</td>\n",
       "    </tr>\n",
       "    <tr>\n",
       "      <th>827</th>\n",
       "      <td>11075</td>\n",
       "      <td>RICSU</td>\n",
       "      <td>8</td>\n",
       "      <td>1998-05-06</td>\n",
       "      <td>1998-06-03</td>\n",
       "      <td>NaT</td>\n",
       "      <td>2</td>\n",
       "      <td>6.19</td>\n",
       "      <td>Richter Supermarkt</td>\n",
       "      <td>Starenweg 5</td>\n",
       "      <td>Genève</td>\n",
       "      <td>None</td>\n",
       "      <td>1204</td>\n",
       "      <td>Switzerland</td>\n",
       "    </tr>\n",
       "    <tr>\n",
       "      <th>828</th>\n",
       "      <td>11076</td>\n",
       "      <td>BONAP</td>\n",
       "      <td>4</td>\n",
       "      <td>1998-05-06</td>\n",
       "      <td>1998-06-03</td>\n",
       "      <td>NaT</td>\n",
       "      <td>2</td>\n",
       "      <td>38.28</td>\n",
       "      <td>Bon app'</td>\n",
       "      <td>12, rue des Bouchers</td>\n",
       "      <td>Marseille</td>\n",
       "      <td>None</td>\n",
       "      <td>13008</td>\n",
       "      <td>France</td>\n",
       "    </tr>\n",
       "    <tr>\n",
       "      <th>829</th>\n",
       "      <td>11077</td>\n",
       "      <td>RATTC</td>\n",
       "      <td>1</td>\n",
       "      <td>1998-05-06</td>\n",
       "      <td>1998-06-03</td>\n",
       "      <td>NaT</td>\n",
       "      <td>2</td>\n",
       "      <td>8.53</td>\n",
       "      <td>Rattlesnake Canyon Grocery</td>\n",
       "      <td>2817 Milton Dr.</td>\n",
       "      <td>Albuquerque</td>\n",
       "      <td>NM</td>\n",
       "      <td>87110</td>\n",
       "      <td>USA</td>\n",
       "    </tr>\n",
       "  </tbody>\n",
       "</table>\n",
       "<p>830 rows × 14 columns</p>\n",
       "</div>"
      ],
      "text/plain": [
       "     OrderID CustomerID  EmployeeID  OrderDate RequiredDate ShippedDate  \\\n",
       "0      10248      VINET           5 1996-07-04   1996-08-01  1996-07-16   \n",
       "1      10249      TOMSP           6 1996-07-05   1996-08-16  1996-07-10   \n",
       "2      10250      HANAR           4 1996-07-08   1996-08-05  1996-07-12   \n",
       "3      10251      VICTE           3 1996-07-08   1996-08-05  1996-07-15   \n",
       "4      10252      SUPRD           4 1996-07-09   1996-08-06  1996-07-11   \n",
       "..       ...        ...         ...        ...          ...         ...   \n",
       "825    11073      PERIC           2 1998-05-05   1998-06-02         NaT   \n",
       "826    11074      SIMOB           7 1998-05-06   1998-06-03         NaT   \n",
       "827    11075      RICSU           8 1998-05-06   1998-06-03         NaT   \n",
       "828    11076      BONAP           4 1998-05-06   1998-06-03         NaT   \n",
       "829    11077      RATTC           1 1998-05-06   1998-06-03         NaT   \n",
       "\n",
       "     ShipVia  Freight                    ShipName               ShipAddress  \\\n",
       "0          3    32.38   Vins et alcools Chevalier        59 rue de l'Abbaye   \n",
       "1          1    11.61          Toms Spezialitäten             Luisenstr. 48   \n",
       "2          2    65.83               Hanari Carnes           Rua do Paço, 67   \n",
       "3          1    41.34        Victuailles en stock        2, rue du Commerce   \n",
       "4          2    51.30            Suprêmes délices      Boulevard Tirou, 255   \n",
       "..       ...      ...                         ...                       ...   \n",
       "825        2    24.95   Pericles Comidas clásicas  Calle Dr. Jorge Cash 321   \n",
       "826        2    18.44               Simons bistro              Vinbæltet 34   \n",
       "827        2     6.19          Richter Supermarkt               Starenweg 5   \n",
       "828        2    38.28                    Bon app'      12, rue des Bouchers   \n",
       "829        2     8.53  Rattlesnake Canyon Grocery           2817 Milton Dr.   \n",
       "\n",
       "           ShipCity ShipRegion ShipPostalCode  ShipCountry  \n",
       "0             Reims       None          51100       France  \n",
       "1           Münster       None          44087      Germany  \n",
       "2    Rio de Janeiro         RJ      05454-876       Brazil  \n",
       "3              Lyon       None          69004       France  \n",
       "4         Charleroi       None         B-6000      Belgium  \n",
       "..              ...        ...            ...          ...  \n",
       "825     México D.F.       None          05033       Mexico  \n",
       "826       Kobenhavn       None           1734      Denmark  \n",
       "827          Genève       None           1204  Switzerland  \n",
       "828       Marseille       None          13008       France  \n",
       "829     Albuquerque         NM          87110          USA  \n",
       "\n",
       "[830 rows x 14 columns]"
      ]
     },
     "execution_count": 58,
     "metadata": {},
     "output_type": "execute_result"
    }
   ],
   "source": [
    "data"
   ]
  },
  {
   "cell_type": "code",
   "execution_count": 59,
   "id": "e96248f1-cfbd-4f9d-9fa5-f8f0db09f78c",
   "metadata": {},
   "outputs": [
    {
     "name": "stdout",
     "output_type": "stream",
     "text": [
      "<class 'pandas.core.frame.DataFrame'>\n",
      "RangeIndex: 830 entries, 0 to 829\n",
      "Data columns (total 14 columns):\n",
      " #   Column          Non-Null Count  Dtype         \n",
      "---  ------          --------------  -----         \n",
      " 0   OrderID         830 non-null    int64         \n",
      " 1   CustomerID      830 non-null    object        \n",
      " 2   EmployeeID      830 non-null    int64         \n",
      " 3   OrderDate       830 non-null    datetime64[ns]\n",
      " 4   RequiredDate    830 non-null    datetime64[ns]\n",
      " 5   ShippedDate     809 non-null    datetime64[ns]\n",
      " 6   ShipVia         830 non-null    int64         \n",
      " 7   Freight         830 non-null    float64       \n",
      " 8   ShipName        830 non-null    object        \n",
      " 9   ShipAddress     830 non-null    object        \n",
      " 10  ShipCity        830 non-null    object        \n",
      " 11  ShipRegion      323 non-null    object        \n",
      " 12  ShipPostalCode  811 non-null    object        \n",
      " 13  ShipCountry     830 non-null    object        \n",
      "dtypes: datetime64[ns](3), float64(1), int64(3), object(7)\n",
      "memory usage: 90.9+ KB\n"
     ]
    }
   ],
   "source": [
    "data.info()"
   ]
  },
  {
   "cell_type": "code",
   "execution_count": 60,
   "id": "347b2b49-da64-4d15-9bd7-e1972a72c8c9",
   "metadata": {},
   "outputs": [],
   "source": [
    "# Aufgabe: Was sind die Durchschnittsfrachtkosten von Bestellungen des Kunden ALFKI?"
   ]
  },
  {
   "cell_type": "code",
   "execution_count": 61,
   "id": "a8223cf1-1ace-4791-b2d6-cc65c59c32cb",
   "metadata": {},
   "outputs": [
    {
     "data": {
      "text/plain": [
       "37.59666666666667"
      ]
     },
     "execution_count": 61,
     "metadata": {},
     "output_type": "execute_result"
    }
   ],
   "source": [
    "data[data[\"CustomerID\"] == \"ALFKI\"][\"Freight\"].mean()"
   ]
  },
  {
   "cell_type": "code",
   "execution_count": 62,
   "id": "9ae875b2-8ea8-4357-a4b3-84fc364d5595",
   "metadata": {},
   "outputs": [],
   "source": [
    "connection.close()"
   ]
  },
  {
   "cell_type": "code",
   "execution_count": 68,
   "id": "e238d116-b1b1-48d8-92c6-5011b3439522",
   "metadata": {},
   "outputs": [
    {
     "data": {
      "image/png": "[encoded data removed]",
      "text/plain": [
       "<Figure size 640x480 with 1 Axes>"
      ]
     },
     "metadata": {},
     "output_type": "display_data"
    }
   ],
   "source": [
    "f = data[data[\"CustomerID\"] == \"ALFKI\"][\"Freight\"]\n",
    "plt.bar(data[data[\"CustomerID\"] == \"ALFKI\"][\"OrderID\"].values.astype(str), f)\n",
    "None"
   ]
  },
  {
   "cell_type": "code",
   "execution_count": null,
   "id": "f7c5202e-bc9f-46d8-b475-9729a59d42e9",
   "metadata": {},
   "outputs": [],
   "source": []
  }
 ],
 "metadata": {
  "kernelspec": {
   "display_name": "Python 3 (ipykernel)",
   "language": "python",
   "name": "python3"
  },
  "language_info": {
   "codemirror_mode": {
    "name": "ipython",
    "version": 3
   },
   "file_extension": ".py",
   "mimetype": "text/x-python",
   "name": "python",
   "nbconvert_exporter": "python",
   "pygments_lexer": "ipython3",
   "version": "3.12.3"
  }
 },
 "nbformat": 4,
 "nbformat_minor": 5
}
