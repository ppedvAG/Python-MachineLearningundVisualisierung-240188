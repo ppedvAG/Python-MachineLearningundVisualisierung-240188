{
 "cells": [
  {
   "cell_type": "markdown",
   "id": "6a96ca72-d549-470e-8c3e-c3b44a33550f",
   "metadata": {},
   "source": [
    "## Numpy\n",
    "\n",
    "Verarbeitung von Zahlen\n",
    "\n",
    "Im Gegensatz zu Python performant, weil in C geschrieben"
   ]
  },
  {
   "cell_type": "code",
   "execution_count": 1,
   "id": "78de6019-3270-4e7e-9794-e35600f88cf7",
   "metadata": {},
   "outputs": [],
   "source": [
    "import numpy as np"
   ]
  },
  {
   "cell_type": "markdown",
   "id": "63e3621c-d2fc-40a7-a13b-d0f7809b9704",
   "metadata": {},
   "source": [
    "### Array\n",
    "\n",
    "Grundstruktur von Numpy\n",
    "\n",
    "Vergleichbar mit einer Python List"
   ]
  },
  {
   "cell_type": "code",
   "execution_count": 3,
   "id": "66235610-e02f-4ff3-a9a1-025de00c33e7",
   "metadata": {},
   "outputs": [
    {
     "data": {
      "text/plain": [
       "array([1, 2, 3, 4])"
      ]
     },
     "execution_count": 3,
     "metadata": {},
     "output_type": "execute_result"
    }
   ],
   "source": [
    "np.array([1, 2, 3, 4])  # Numpy Array aus einer Python Liste erstellen"
   ]
  },
  {
   "cell_type": "code",
   "execution_count": 4,
   "id": "adfb4949-7473-4aeb-aa2b-0854b812e030",
   "metadata": {},
   "outputs": [],
   "source": [
    "a = np.array([1, 2, 3, 4])"
   ]
  },
  {
   "cell_type": "code",
   "execution_count": 5,
   "id": "d3252b13-e65e-46b8-905f-a309f429d5ad",
   "metadata": {},
   "outputs": [
    {
     "data": {
      "text/plain": [
       "array([1, 2, 3, 4])"
      ]
     },
     "execution_count": 5,
     "metadata": {},
     "output_type": "execute_result"
    }
   ],
   "source": [
    "a"
   ]
  },
  {
   "cell_type": "markdown",
   "id": "e6bb4a74-0607-40b7-9387-aee59525d544",
   "metadata": {},
   "source": [
    "Index"
   ]
  },
  {
   "cell_type": "code",
   "execution_count": 6,
   "id": "70555cfc-2d91-466e-bbe7-d9d612286f9c",
   "metadata": {},
   "outputs": [
    {
     "data": {
      "text/plain": [
       "1"
      ]
     },
     "execution_count": 6,
     "metadata": {},
     "output_type": "execute_result"
    }
   ],
   "source": [
    "a[0]"
   ]
  },
  {
   "cell_type": "code",
   "execution_count": 7,
   "id": "0d2324e7-0025-4d15-acfc-2d7e858c884e",
   "metadata": {},
   "outputs": [
    {
     "data": {
      "text/plain": [
       "2"
      ]
     },
     "execution_count": 7,
     "metadata": {},
     "output_type": "execute_result"
    }
   ],
   "source": [
    "a[1]"
   ]
  },
  {
   "cell_type": "code",
   "execution_count": 10,
   "id": "8b27e153-2540-49ba-8fea-faaa83fc5703",
   "metadata": {},
   "outputs": [],
   "source": [
    "b = np.array([2.4, 1.1, 7.4, 8.3])  # Kommazahlenarray"
   ]
  },
  {
   "cell_type": "code",
   "execution_count": 9,
   "id": "c0780b60-9ccb-471e-a9a7-ee53cbeec2f4",
   "metadata": {},
   "outputs": [
    {
     "data": {
      "text/plain": [
       "array([2.4, 1.1, 7.4, 8.3])"
      ]
     },
     "execution_count": 9,
     "metadata": {},
     "output_type": "execute_result"
    }
   ],
   "source": [
    "b"
   ]
  },
  {
   "cell_type": "markdown",
   "id": "8664af0c-9f07-4ffe-a210-459797e632f2",
   "metadata": {},
   "source": [
    "#### Datentypen\n",
    "\n",
    "In Python gibt es zwei numerische Datentypen: int, float\n",
    "\n",
    "In Numpy können wir performante Datentypen implementieren"
   ]
  },
  {
   "cell_type": "code",
   "execution_count": 13,
   "id": "e54aac14-942a-485a-b2b3-624703c69a9d",
   "metadata": {},
   "outputs": [
    {
     "data": {
      "text/plain": [
       "dtype('int32')"
      ]
     },
     "execution_count": 13,
     "metadata": {},
     "output_type": "execute_result"
    }
   ],
   "source": [
    "a.dtype  # 4 Byte pro Element"
   ]
  },
  {
   "cell_type": "code",
   "execution_count": 14,
   "id": "b342dfc1-587c-4bb2-85b8-66d00670cdd7",
   "metadata": {},
   "outputs": [
    {
     "data": {
      "text/plain": [
       "dtype('float64')"
      ]
     },
     "execution_count": 14,
     "metadata": {},
     "output_type": "execute_result"
    }
   ],
   "source": [
    "b.dtype  # 8 Byte pro Element"
   ]
  },
  {
   "cell_type": "markdown",
   "id": "f9e71115-546c-4467-9397-9703337812bb",
   "metadata": {},
   "source": [
    "Liste von Datentypen in Numpy:\n",
    "\n",
    "Ganze Zahlen:\n",
    "- int8\n",
    "- int16\n",
    "- int32\n",
    "- int64\n",
    "\n",
    "Kommazahlen:\n",
    "- float16\n",
    "- float32\n",
    "- float64"
   ]
  },
  {
   "cell_type": "code",
   "execution_count": 15,
   "id": "44260eed-a2fa-4c73-900b-4776f4adcea3",
   "metadata": {},
   "outputs": [],
   "source": [
    "c = np.array([2, 5, 1, 9], dtype=np.int8)"
   ]
  },
  {
   "cell_type": "code",
   "execution_count": 17,
   "id": "c9625229-3ef0-4dba-aadf-8a57db47df5f",
   "metadata": {},
   "outputs": [
    {
     "data": {
      "text/plain": [
       "array([2, 5, 1, 9], dtype=int8)"
      ]
     },
     "execution_count": 17,
     "metadata": {},
     "output_type": "execute_result"
    }
   ],
   "source": [
    "c  # 1 Byte pro Zahl statt 4 Byte"
   ]
  },
  {
   "cell_type": "code",
   "execution_count": 27,
   "id": "a4189a1e-d9bc-4c83-b00b-b4d1510c4375",
   "metadata": {},
   "outputs": [],
   "source": [
    "d = np.array([1, 2, 3], dtype=np.int64)  # 8 Byte pro Zahl"
   ]
  },
  {
   "cell_type": "code",
   "execution_count": 28,
   "id": "e6b763b5-4007-4348-a4ee-0faf71724128",
   "metadata": {},
   "outputs": [],
   "source": [
    "e = np.array([1, 2, 3.328957913794], dtype=np.float16)  # 2 Byte pro Zahl"
   ]
  },
  {
   "cell_type": "code",
   "execution_count": 29,
   "id": "ab7a7315-f596-48dd-8da3-1de3e292fa8d",
   "metadata": {},
   "outputs": [
    {
     "data": {
      "text/plain": [
       "array([1.   , 2.   , 3.328], dtype=float16)"
      ]
     },
     "execution_count": 29,
     "metadata": {},
     "output_type": "execute_result"
    }
   ],
   "source": [
    "e  # Möglicherweise ungenau"
   ]
  },
  {
   "cell_type": "markdown",
   "id": "50074355-1f84-45b3-a738-8bf456589e20",
   "metadata": {},
   "source": [
    "### Matrizen\n",
    "\n",
    "Arrays mit mehr als einer Dimension"
   ]
  },
  {
   "cell_type": "code",
   "execution_count": 30,
   "id": "550fb6d5-5236-426e-a965-dc25c66f1394",
   "metadata": {},
   "outputs": [],
   "source": [
    "m = np.array([\n",
    "    [1, 2, 3],\n",
    "    [4, 5, 6],\n",
    "    [7, 8, 9]\n",
    "])"
   ]
  },
  {
   "cell_type": "code",
   "execution_count": 31,
   "id": "d977a9fc-8c47-4588-a369-74a91cad8330",
   "metadata": {},
   "outputs": [
    {
     "data": {
      "text/plain": [
       "array([[1, 2, 3],\n",
       "       [4, 5, 6],\n",
       "       [7, 8, 9]])"
      ]
     },
     "execution_count": 31,
     "metadata": {},
     "output_type": "execute_result"
    }
   ],
   "source": [
    "m"
   ]
  },
  {
   "cell_type": "code",
   "execution_count": 33,
   "id": "d7d86317-4238-4df4-8b84-8f982723add0",
   "metadata": {},
   "outputs": [
    {
     "data": {
      "text/plain": [
       "9"
      ]
     },
     "execution_count": 33,
     "metadata": {},
     "output_type": "execute_result"
    }
   ],
   "source": [
    "m.size  # Anzahl Elemente gesamt (x * y)"
   ]
  },
  {
   "cell_type": "code",
   "execution_count": 34,
   "id": "ff94a90e-9122-42a3-9fb8-6e369ce19770",
   "metadata": {},
   "outputs": [
    {
     "data": {
      "text/plain": [
       "(3, 3)"
      ]
     },
     "execution_count": 34,
     "metadata": {},
     "output_type": "execute_result"
    }
   ],
   "source": [
    "m.shape"
   ]
  },
  {
   "cell_type": "code",
   "execution_count": 36,
   "id": "d34852cb-be84-40c7-8955-17d8e191d2e5",
   "metadata": {},
   "outputs": [
    {
     "data": {
      "text/plain": [
       "9"
      ]
     },
     "execution_count": 36,
     "metadata": {},
     "output_type": "execute_result"
    }
   ],
   "source": [
    "m.shape[0] * m.shape[1]  # m.size"
   ]
  },
  {
   "cell_type": "code",
   "execution_count": 38,
   "id": "9412e780-a19e-4361-90bf-89fe210c0920",
   "metadata": {},
   "outputs": [
    {
     "data": {
      "text/plain": [
       "2"
      ]
     },
     "execution_count": 38,
     "metadata": {},
     "output_type": "execute_result"
    }
   ],
   "source": [
    "m.ndim  # Anzahl Dimensionen"
   ]
  },
  {
   "cell_type": "code",
   "execution_count": 41,
   "id": "7617b414-6492-4a01-873c-11fc1baa1acc",
   "metadata": {},
   "outputs": [
    {
     "data": {
      "text/plain": [
       "2"
      ]
     },
     "execution_count": 41,
     "metadata": {},
     "output_type": "execute_result"
    }
   ],
   "source": [
    "len(m.shape)  # m.ndim"
   ]
  },
  {
   "cell_type": "markdown",
   "id": "4dda6e57-c2ea-46c3-a21b-137f52357dec",
   "metadata": {},
   "source": [
    "#### Matrizen angreifen"
   ]
  },
  {
   "cell_type": "code",
   "execution_count": 43,
   "id": "4ee35fde-a164-4001-84fd-98c3a575b691",
   "metadata": {},
   "outputs": [
    {
     "data": {
      "text/plain": [
       "array([4, 5, 6])"
      ]
     },
     "execution_count": 43,
     "metadata": {},
     "output_type": "execute_result"
    }
   ],
   "source": [
    "m[1]  # Ergebnis: 1D-Array"
   ]
  },
  {
   "cell_type": "code",
   "execution_count": 45,
   "id": "0b756d59-c5c6-4c0c-8299-1f199e9fde41",
   "metadata": {},
   "outputs": [
    {
     "data": {
      "text/plain": [
       "4"
      ]
     },
     "execution_count": 45,
     "metadata": {},
     "output_type": "execute_result"
    }
   ],
   "source": [
    "m[1][0]  # Zeile 1, Spalte 0"
   ]
  },
  {
   "cell_type": "code",
   "execution_count": 48,
   "id": "b6c51e60-1660-431b-86cc-376469bb8ff1",
   "metadata": {},
   "outputs": [
    {
     "data": {
      "text/plain": [
       "4"
      ]
     },
     "execution_count": 48,
     "metadata": {},
     "output_type": "execute_result"
    }
   ],
   "source": [
    "m[1, 0]  # Zeile und Spalte in der selben Klammer angeben (nicht in Python möglich)"
   ]
  },
  {
   "cell_type": "markdown",
   "id": "15e6639c-a696-42c6-8a05-c44d3416c966",
   "metadata": {},
   "source": [
    "#### Slicing von Matrizen\n",
    "\n",
    "Teile von einer Matrix entnehmen\n",
    "\n",
    "Später wichtig für 2D-Datensets (Tabellen)"
   ]
  },
  {
   "cell_type": "code",
   "execution_count": 51,
   "id": "3e6ab511-6c26-48b0-bfd0-28a2fb79572f",
   "metadata": {},
   "outputs": [
    {
     "data": {
      "text/plain": [
       "array([[4, 5, 6],\n",
       "       [7, 8, 9]])"
      ]
     },
     "execution_count": 51,
     "metadata": {},
     "output_type": "execute_result"
    }
   ],
   "source": [
    "# Mehrere Zeilen nehmen\n",
    "m[1:3]"
   ]
  },
  {
   "cell_type": "code",
   "execution_count": 55,
   "id": "c8a79253-d2f4-4284-92ba-5e3f3c48a13a",
   "metadata": {},
   "outputs": [
    {
     "data": {
      "text/plain": [
       "array([[1, 2],\n",
       "       [4, 5],\n",
       "       [7, 8]])"
      ]
     },
     "execution_count": 55,
     "metadata": {},
     "output_type": "execute_result"
    }
   ],
   "source": [
    "# Mehrere Spalten nehmen\n",
    "m[:, 0:2]"
   ]
  },
  {
   "cell_type": "code",
   "execution_count": 59,
   "id": "36cb4c07-9882-4557-a6bd-a96d2fc612b6",
   "metadata": {},
   "outputs": [
    {
     "data": {
      "text/plain": [
       "array([[4, 5],\n",
       "       [7, 8]])"
      ]
     },
     "execution_count": 59,
     "metadata": {},
     "output_type": "execute_result"
    }
   ],
   "source": [
    "# Teil der Matrix entnehmen\n",
    "# Aufgabenstellung: Unteres Linkes Eck entnehmen (4, 5, 7, 8)\n",
    "m[1:3, 0:2]"
   ]
  },
  {
   "cell_type": "code",
   "execution_count": 62,
   "id": "fea82d9d-4c9c-43c8-98f3-32c0fc9938d0",
   "metadata": {},
   "outputs": [
    {
     "data": {
      "text/plain": [
       "array([[4, 5],\n",
       "       [7, 8]])"
      ]
     },
     "execution_count": 62,
     "metadata": {},
     "output_type": "execute_result"
    }
   ],
   "source": [
    "# Unter-/Obergrenzen weglassen (\"bis zum Ende\")\n",
    "m[1:, :2]"
   ]
  },
  {
   "cell_type": "markdown",
   "id": "41adc04e-b4a5-4325-aca1-21a596047b6c",
   "metadata": {},
   "source": [
    "#### Neue Werte eintragen"
   ]
  },
  {
   "cell_type": "code",
   "execution_count": 65,
   "id": "f2ae4e64-47cc-477f-844d-a2212c0bfafc",
   "metadata": {},
   "outputs": [],
   "source": [
    "m[1, 1] = 50"
   ]
  },
  {
   "cell_type": "code",
   "execution_count": 66,
   "id": "b00a0052-3901-4ef4-9211-54f72f4260c6",
   "metadata": {},
   "outputs": [
    {
     "data": {
      "text/plain": [
       "array([[ 1,  2,  3],\n",
       "       [ 4, 50,  6],\n",
       "       [ 7,  8,  9]])"
      ]
     },
     "execution_count": 66,
     "metadata": {},
     "output_type": "execute_result"
    }
   ],
   "source": [
    "m"
   ]
  },
  {
   "cell_type": "code",
   "execution_count": 70,
   "id": "46667081-aff6-4638-a9a3-91e4836751d7",
   "metadata": {},
   "outputs": [],
   "source": [
    "m[1, 1] = m[0, 1] ** 5"
   ]
  },
  {
   "cell_type": "code",
   "execution_count": 71,
   "id": "7e84c771-d362-4a0b-9361-d5fc8b42d95b",
   "metadata": {},
   "outputs": [
    {
     "data": {
      "text/plain": [
       "array([[ 1,  2,  3],\n",
       "       [ 4, 32,  6],\n",
       "       [ 7,  8,  9]])"
      ]
     },
     "execution_count": 71,
     "metadata": {},
     "output_type": "execute_result"
    }
   ],
   "source": [
    "m"
   ]
  },
  {
   "cell_type": "code",
   "execution_count": 74,
   "id": "ba703a45-7561-4bdf-8ea0-12860fafb0d8",
   "metadata": {},
   "outputs": [],
   "source": [
    "m[1] = 10  # Gesamte Zeile mit einem Wert befüllen"
   ]
  },
  {
   "cell_type": "code",
   "execution_count": 75,
   "id": "009e613c-a48d-4996-86f3-81fb3748e2de",
   "metadata": {},
   "outputs": [
    {
     "data": {
      "text/plain": [
       "array([[ 1,  2,  3],\n",
       "       [10, 10, 10],\n",
       "       [ 7,  8,  9]])"
      ]
     },
     "execution_count": 75,
     "metadata": {},
     "output_type": "execute_result"
    }
   ],
   "source": [
    "m"
   ]
  },
  {
   "cell_type": "code",
   "execution_count": 78,
   "id": "688235ae-1cda-413a-8c5f-79466ae13b09",
   "metadata": {},
   "outputs": [],
   "source": [
    "m[:, 1] = 20  # Gesamte Spalte mit einem Wert befüllen"
   ]
  },
  {
   "cell_type": "code",
   "execution_count": 77,
   "id": "3dbfb04e-57b9-4ce0-9827-6e48fcc590c2",
   "metadata": {},
   "outputs": [
    {
     "data": {
      "text/plain": [
       "array([[ 1, 20,  3],\n",
       "       [10, 20, 10],\n",
       "       [ 7, 20,  9]])"
      ]
     },
     "execution_count": 77,
     "metadata": {},
     "output_type": "execute_result"
    }
   ],
   "source": [
    "m"
   ]
  },
  {
   "cell_type": "markdown",
   "id": "9fedde2f-b04c-4a2b-9168-bd60155f5501",
   "metadata": {},
   "source": [
    "#### Einfache Analyse von Daten"
   ]
  },
  {
   "cell_type": "code",
   "execution_count": 79,
   "id": "c50d9d44-562a-4051-be23-1757d56dd1e4",
   "metadata": {},
   "outputs": [
    {
     "data": {
      "text/plain": [
       "10"
      ]
     },
     "execution_count": 79,
     "metadata": {},
     "output_type": "execute_result"
    }
   ],
   "source": [
    "a.sum()"
   ]
  },
  {
   "cell_type": "code",
   "execution_count": 80,
   "id": "30747d8b-a795-4857-bdac-73aaf8f6f1e8",
   "metadata": {},
   "outputs": [
    {
     "data": {
      "text/plain": [
       "2.5"
      ]
     },
     "execution_count": 80,
     "metadata": {},
     "output_type": "execute_result"
    }
   ],
   "source": [
    "a.mean()"
   ]
  },
  {
   "cell_type": "code",
   "execution_count": 81,
   "id": "6f09e545-eeb6-4efa-9080-be9417402625",
   "metadata": {},
   "outputs": [
    {
     "data": {
      "text/plain": [
       "1.118033988749895"
      ]
     },
     "execution_count": 81,
     "metadata": {},
     "output_type": "execute_result"
    }
   ],
   "source": [
    "a.std()"
   ]
  },
  {
   "cell_type": "code",
   "execution_count": 82,
   "id": "7f9889ba-75c0-401f-b38c-7a9a8692b3cd",
   "metadata": {},
   "outputs": [
    {
     "data": {
      "text/plain": [
       "1.25"
      ]
     },
     "execution_count": 82,
     "metadata": {},
     "output_type": "execute_result"
    }
   ],
   "source": [
    "a.var()"
   ]
  },
  {
   "cell_type": "markdown",
   "id": "df49473d-3f63-4000-a8d2-29dbbc9ab549",
   "metadata": {},
   "source": [
    "Matrizen"
   ]
  },
  {
   "cell_type": "code",
   "execution_count": 83,
   "id": "04bb72c0-f2a7-4a67-8817-c8f8e52aa78e",
   "metadata": {},
   "outputs": [
    {
     "data": {
      "text/plain": [
       "100"
      ]
     },
     "execution_count": 83,
     "metadata": {},
     "output_type": "execute_result"
    }
   ],
   "source": [
    "m.sum()"
   ]
  },
  {
   "cell_type": "code",
   "execution_count": 84,
   "id": "c4b04308-3f82-4d67-803a-684acaf0c6e0",
   "metadata": {},
   "outputs": [
    {
     "data": {
      "text/plain": [
       "11.11111111111111"
      ]
     },
     "execution_count": 84,
     "metadata": {},
     "output_type": "execute_result"
    }
   ],
   "source": [
    "m.mean()"
   ]
  },
  {
   "cell_type": "code",
   "execution_count": 85,
   "id": "421f166e-2311-4584-af39-b61393b8cba2",
   "metadata": {},
   "outputs": [
    {
     "data": {
      "text/plain": [
       "6.9032109186706965"
      ]
     },
     "execution_count": 85,
     "metadata": {},
     "output_type": "execute_result"
    }
   ],
   "source": [
    "m.std()"
   ]
  },
  {
   "cell_type": "code",
   "execution_count": 86,
   "id": "cadaeb97-50b0-424d-b4af-265d53e98e5b",
   "metadata": {},
   "outputs": [
    {
     "data": {
      "text/plain": [
       "47.65432098765432"
      ]
     },
     "execution_count": 86,
     "metadata": {},
     "output_type": "execute_result"
    }
   ],
   "source": [
    "m.var()"
   ]
  },
  {
   "cell_type": "markdown",
   "id": "b8573397-3927-4740-a525-57c29b16b087",
   "metadata": {},
   "source": [
    "Auch auf Achsen möglich (X-Achse, Y-Achse)"
   ]
  },
  {
   "cell_type": "code",
   "execution_count": 88,
   "id": "2f4d7f2e-1e69-4937-af99-ced7d649ff21",
   "metadata": {},
   "outputs": [
    {
     "data": {
      "text/plain": [
       "array([18, 60, 22])"
      ]
     },
     "execution_count": 88,
     "metadata": {},
     "output_type": "execute_result"
    }
   ],
   "source": [
    "m.sum(axis=0)  # Axis 0: Y-Achse"
   ]
  },
  {
   "cell_type": "code",
   "execution_count": 90,
   "id": "9bc0c1c0-cc68-43ee-9122-4ea67f9bb96d",
   "metadata": {},
   "outputs": [
    {
     "data": {
      "text/plain": [
       "array([24, 40, 36])"
      ]
     },
     "execution_count": 90,
     "metadata": {},
     "output_type": "execute_result"
    }
   ],
   "source": [
    "m.sum(axis=1)  # Zeilenweise summieren"
   ]
  },
  {
   "cell_type": "code",
   "execution_count": 92,
   "id": "5793b857-ef20-4cd2-80e0-5ebe39e7ce72",
   "metadata": {},
   "outputs": [
    {
     "data": {
      "text/plain": [
       "array([ 6.        , 20.        ,  7.33333333])"
      ]
     },
     "execution_count": 92,
     "metadata": {},
     "output_type": "execute_result"
    }
   ],
   "source": [
    "m.mean(axis=0)  # Durchschnitte der Spalten"
   ]
  },
  {
   "cell_type": "code",
   "execution_count": 93,
   "id": "eb18ed58-87cf-4046-93e9-e5d600cadb4d",
   "metadata": {},
   "outputs": [
    {
     "data": {
      "text/plain": [
       "array([ 8.        , 13.33333333, 12.        ])"
      ]
     },
     "execution_count": 93,
     "metadata": {},
     "output_type": "execute_result"
    }
   ],
   "source": [
    "m.mean(axis=1)  # Durchschnitte der Zeilen"
   ]
  },
  {
   "cell_type": "markdown",
   "id": "1c34d3c0-da53-4476-8675-0aba8e2a1da9",
   "metadata": {},
   "source": [
    "### Vektorisierung von Arrays\n",
    "\n",
    "Gesamtes Array/Matrix mit einer Operation verarbeiten"
   ]
  },
  {
   "cell_type": "code",
   "execution_count": 96,
   "id": "02156f4b-6e3c-462b-9f9a-8a4af8eab457",
   "metadata": {},
   "outputs": [],
   "source": [
    "v = np.arange(10)  # Äquivalent zu range(10) in Python, hier wird ein Numpy Array erzeugt"
   ]
  },
  {
   "cell_type": "code",
   "execution_count": 97,
   "id": "4b9ded94-eadb-43f4-ae40-e8d439952885",
   "metadata": {},
   "outputs": [
    {
     "data": {
      "text/plain": [
       "[0, 1, 2, 3, 4, 5, 6, 7, 8, 9]"
      ]
     },
     "execution_count": 97,
     "metadata": {},
     "output_type": "execute_result"
    }
   ],
   "source": [
    "list(range(10))"
   ]
  },
  {
   "cell_type": "code",
   "execution_count": 98,
   "id": "4b42647c-dbcf-4ae1-96e5-b180d3be75f4",
   "metadata": {},
   "outputs": [
    {
     "data": {
      "text/plain": [
       "array([0, 1, 2, 3, 4, 5, 6, 7, 8, 9])"
      ]
     },
     "execution_count": 98,
     "metadata": {},
     "output_type": "execute_result"
    }
   ],
   "source": [
    "v"
   ]
  },
  {
   "cell_type": "code",
   "execution_count": 100,
   "id": "8fcdeeb3-d775-4a8c-800b-8160eb0f04d8",
   "metadata": {},
   "outputs": [
    {
     "data": {
      "text/plain": [
       "array([10, 11, 12, 13, 14, 15, 16, 17, 18, 19])"
      ]
     },
     "execution_count": 100,
     "metadata": {},
     "output_type": "execute_result"
    }
   ],
   "source": [
    "v + 10  # 10 auf das gesamte Array aufsummieren"
   ]
  },
  {
   "cell_type": "code",
   "execution_count": 103,
   "id": "47106762-5e72-4c18-8d78-a4c8eb3dcdba",
   "metadata": {},
   "outputs": [
    {
     "data": {
      "text/plain": [
       "array([0, 1, 2, 3, 4, 5, 6, 7, 8, 9])"
      ]
     },
     "execution_count": 103,
     "metadata": {},
     "output_type": "execute_result"
    }
   ],
   "source": [
    "v  # WICHTIG: Originales Array bleibt unberührt"
   ]
  },
  {
   "cell_type": "code",
   "execution_count": 104,
   "id": "3a92e991-4129-400d-ad36-8d457a5649bc",
   "metadata": {},
   "outputs": [],
   "source": [
    "v += 10"
   ]
  },
  {
   "cell_type": "code",
   "execution_count": 105,
   "id": "ef61a1a0-e8ca-4690-8a45-7f1b8ce01ff8",
   "metadata": {},
   "outputs": [
    {
     "data": {
      "text/plain": [
       "array([10, 11, 12, 13, 14, 15, 16, 17, 18, 19])"
      ]
     },
     "execution_count": 105,
     "metadata": {},
     "output_type": "execute_result"
    }
   ],
   "source": [
    "v"
   ]
  },
  {
   "cell_type": "code",
   "execution_count": 106,
   "id": "4aa500ed-623f-4e45-a59f-15c80046df79",
   "metadata": {},
   "outputs": [
    {
     "data": {
      "text/plain": [
       "array([0, 1, 2, 3, 4, 0, 1, 2, 3, 4], dtype=int32)"
      ]
     },
     "execution_count": 106,
     "metadata": {},
     "output_type": "execute_result"
    }
   ],
   "source": [
    "v % 5"
   ]
  },
  {
   "cell_type": "code",
   "execution_count": 107,
   "id": "352c437b-7fd1-4c99-a5af-b83e9594af0a",
   "metadata": {},
   "outputs": [
    {
     "data": {
      "text/plain": [
       "array([100, 121, 144, 169, 196, 225, 256, 289, 324, 361])"
      ]
     },
     "execution_count": 107,
     "metadata": {},
     "output_type": "execute_result"
    }
   ],
   "source": [
    "v ** 2"
   ]
  },
  {
   "cell_type": "code",
   "execution_count": 111,
   "id": "b27b3400-5de9-4b90-808a-38a26faee835",
   "metadata": {},
   "outputs": [
    {
     "data": {
      "text/plain": [
       "array([  1,   4,   9,  16,  25,  36,  49,  64,  81, 100, 121, 144, 169,\n",
       "       196, 225, 256, 289, 324, 361, 400, 441, 484, 529, 576, 625])"
      ]
     },
     "execution_count": 111,
     "metadata": {},
     "output_type": "execute_result"
    }
   ],
   "source": [
    "(np.arange(25) + 1) ** 2  # Alle Potenzen bis 25"
   ]
  },
  {
   "cell_type": "code",
   "execution_count": 123,
   "id": "76397e42-27c4-450d-bcad-4195f1b39a7a",
   "metadata": {},
   "outputs": [
    {
     "data": {
      "text/plain": [
       "array([          1,           2,           4,           8,          16,\n",
       "                32,          64,         128,         256,         512,\n",
       "              1024,        2048,        4096,        8192,       16384,\n",
       "             32768,       65536,      131072,      262144,      524288,\n",
       "           1048576,     2097152,     4194304,     8388608,    16777216,\n",
       "          33554432,    67108864,   134217728,   268435456,   536870912,\n",
       "        1073741824, -2147483648])"
      ]
     },
     "execution_count": 123,
     "metadata": {},
     "output_type": "execute_result"
    }
   ],
   "source": [
    "# Alle Zweierpotenzen ausgeben (1, 2, 4, 8, 16, 32, 64, 128, ...)\n",
    "(np.ones(32, dtype=int) + 1) ** np.arange(32)"
   ]
  },
  {
   "cell_type": "markdown",
   "id": "ad26383e-2029-475f-98f1-c71b268f4dca",
   "metadata": {},
   "source": [
    "#### Boolean Masken\n",
    "\n",
    "Statt +, -, *, /, %, **, ... werden wir jetzt Bedingungen verwenden (>, <, !=, ==, ...)\n",
    "\n",
    "Verwendung: Arrays filtern"
   ]
  },
  {
   "cell_type": "code",
   "execution_count": 124,
   "id": "30d8ac53-c6ea-48a3-9c30-efb79702e9ca",
   "metadata": {},
   "outputs": [],
   "source": [
    "bm = np.arange(50)"
   ]
  },
  {
   "cell_type": "code",
   "execution_count": 125,
   "id": "e8d0bb34-851a-4e76-ad3d-b9f4566fa936",
   "metadata": {},
   "outputs": [
    {
     "data": {
      "text/plain": [
       "array([ 0,  1,  2,  3,  4,  5,  6,  7,  8,  9, 10, 11, 12, 13, 14, 15, 16,\n",
       "       17, 18, 19, 20, 21, 22, 23, 24, 25, 26, 27, 28, 29, 30, 31, 32, 33,\n",
       "       34, 35, 36, 37, 38, 39, 40, 41, 42, 43, 44, 45, 46, 47, 48, 49])"
      ]
     },
     "execution_count": 125,
     "metadata": {},
     "output_type": "execute_result"
    }
   ],
   "source": [
    "bm"
   ]
  },
  {
   "cell_type": "code",
   "execution_count": 127,
   "id": "fab85725-5672-4c50-aed9-9920188b0787",
   "metadata": {},
   "outputs": [
    {
     "data": {
      "text/plain": [
       "array([False, False, False, False, False, False, False, False, False,\n",
       "       False, False, False, False, False, False, False, False, False,\n",
       "       False, False,  True,  True,  True,  True,  True,  True,  True,\n",
       "        True,  True,  True,  True,  True,  True,  True,  True,  True,\n",
       "        True,  True,  True,  True,  True,  True,  True,  True,  True,\n",
       "        True,  True,  True,  True,  True])"
      ]
     },
     "execution_count": 127,
     "metadata": {},
     "output_type": "execute_result"
    }
   ],
   "source": [
    "bm >= 20  # Boolean Array mit False/True"
   ]
  },
  {
   "cell_type": "markdown",
   "id": "43c8e5e9-1242-429e-a592-2db76d3e8748",
   "metadata": {},
   "source": [
    "Boolean Maske auf das Originale Array anwenden"
   ]
  },
  {
   "cell_type": "code",
   "execution_count": 131,
   "id": "dc26cd82-2e85-4730-a0e3-97e90f2c948a",
   "metadata": {},
   "outputs": [
    {
     "data": {
      "text/plain": [
       "array([20, 21, 22, 23, 24, 25, 26, 27, 28, 29, 30, 31, 32, 33, 34, 35, 36,\n",
       "       37, 38, 39, 40, 41, 42, 43, 44, 45, 46, 47, 48, 49])"
      ]
     },
     "execution_count": 131,
     "metadata": {},
     "output_type": "execute_result"
    }
   ],
   "source": [
    "bm[bm >= 20]  # Filterung"
   ]
  },
  {
   "cell_type": "code",
   "execution_count": 141,
   "id": "966dba6f-25f1-4914-87c0-c2ea887a8196",
   "metadata": {},
   "outputs": [],
   "source": [
    "r = np.random.randint(100, size=(10, 10))  # Matrix (10x10) mit Zufallszahlen von 0-99"
   ]
  },
  {
   "cell_type": "code",
   "execution_count": 142,
   "id": "b7790f53-c38d-4539-ae69-599b99abaf81",
   "metadata": {},
   "outputs": [
    {
     "data": {
      "text/plain": [
       "array([[44, 59, 13, 32, 58, 69, 58, 73, 26, 97],\n",
       "       [44, 83, 34, 11, 75, 78, 84, 97, 55, 28],\n",
       "       [72, 66, 41, 21,  2, 44, 89, 15, 29,  9],\n",
       "       [67, 59, 96, 37, 66, 49, 55, 41, 81, 93],\n",
       "       [17, 48, 72, 61, 79, 39,  0, 82,  0,  5],\n",
       "       [69,  8, 51,  8, 67, 15, 49, 26, 80, 30],\n",
       "       [ 9, 19, 61, 49, 77, 83, 50, 55, 62, 72],\n",
       "       [68, 55, 67, 99, 82, 59, 71,  2, 71, 73],\n",
       "       [63, 84, 71, 16, 55, 76, 66, 64, 77, 35],\n",
       "       [75, 14, 15,  7, 38, 79, 27, 85,  1, 78]])"
      ]
     },
     "execution_count": 142,
     "metadata": {},
     "output_type": "execute_result"
    }
   ],
   "source": [
    "r"
   ]
  },
  {
   "cell_type": "code",
   "execution_count": 143,
   "id": "67bbfe6a-0d4d-433c-b186-75c800c9bab7",
   "metadata": {},
   "outputs": [],
   "source": [
    "# Aufgabenstellung: Alle Zahlen finden, welche überdurchschnittlich sind"
   ]
  },
  {
   "cell_type": "code",
   "execution_count": 144,
   "id": "f5225069-153b-4974-b7fb-ef4ff0d6b714",
   "metadata": {},
   "outputs": [
    {
     "data": {
      "text/plain": [
       "51.66"
      ]
     },
     "execution_count": 144,
     "metadata": {},
     "output_type": "execute_result"
    }
   ],
   "source": [
    "r.mean()"
   ]
  },
  {
   "cell_type": "code",
   "execution_count": 146,
   "id": "d7c161ba-6520-4fc8-8e2c-6a236b085912",
   "metadata": {},
   "outputs": [
    {
     "data": {
      "text/plain": [
       "array([59, 58, 69, 58, 73, 97, 83, 75, 78, 84, 97, 55, 72, 66, 89, 67, 59,\n",
       "       96, 66, 55, 81, 93, 72, 61, 79, 82, 69, 67, 80, 61, 77, 83, 55, 62,\n",
       "       72, 68, 55, 67, 99, 82, 59, 71, 71, 73, 63, 84, 71, 55, 76, 66, 64,\n",
       "       77, 75, 79, 85, 78])"
      ]
     },
     "execution_count": 146,
     "metadata": {},
     "output_type": "execute_result"
    }
   ],
   "source": [
    "r[r > r.mean()]"
   ]
  },
  {
   "cell_type": "code",
   "execution_count": 156,
   "id": "c7d2f460-af05-4b7e-92f8-47041e0b8524",
   "metadata": {},
   "outputs": [
    {
     "data": {
      "text/plain": [
       "56"
      ]
     },
     "execution_count": 156,
     "metadata": {},
     "output_type": "execute_result"
    }
   ],
   "source": [
    "# Wieviele Zahlen sind das?\n",
    "len(r[r > r.mean()])"
   ]
  },
  {
   "cell_type": "code",
   "execution_count": 157,
   "id": "572b1395-8393-4c90-96b2-a14a15150705",
   "metadata": {},
   "outputs": [
    {
     "data": {
      "text/plain": [
       "58.0"
      ]
     },
     "execution_count": 157,
     "metadata": {},
     "output_type": "execute_result"
    }
   ],
   "source": [
    "np.median(r)"
   ]
  },
  {
   "cell_type": "code",
   "execution_count": 171,
   "id": "49d5a8d9-80bd-4c54-8dd2-eb9decd19d7b",
   "metadata": {},
   "outputs": [
    {
     "data": {
      "text/plain": [
       "array([59, 69, 73, 97, 83, 75, 78, 84, 97, 72, 66, 89, 67, 59, 96, 66, 81,\n",
       "       93, 72, 61, 79, 82, 69, 67, 80, 61, 77, 83, 62, 72, 68, 67, 99, 82,\n",
       "       59, 71, 71, 73, 63, 84, 71, 76, 66, 64, 77, 75, 79, 85, 78])"
      ]
     },
     "execution_count": 171,
     "metadata": {},
     "output_type": "execute_result"
    }
   ],
   "source": [
    "r[r > np.median(r)]"
   ]
  },
  {
   "cell_type": "markdown",
   "id": "538f1cb6-59c8-417d-9006-93471331b57c",
   "metadata": {},
   "source": [
    "### Performance\n",
    "\n",
    "zwischen Python List und Numpy Array"
   ]
  },
  {
   "cell_type": "code",
   "execution_count": 172,
   "id": "a9fad532-0261-4bab-8a7e-4f3f719cf9bf",
   "metadata": {},
   "outputs": [],
   "source": [
    "p = [1, 2, 3, 4]"
   ]
  },
  {
   "cell_type": "code",
   "execution_count": 173,
   "id": "7376e6fe-ae38-4520-a377-fd7a36e5408d",
   "metadata": {},
   "outputs": [],
   "source": [
    "import sys"
   ]
  },
  {
   "cell_type": "code",
   "execution_count": 174,
   "id": "3ee88044-4ff8-4c9f-9182-7a0675250dd5",
   "metadata": {},
   "outputs": [
    {
     "data": {
      "text/plain": [
       "88"
      ]
     },
     "execution_count": 174,
     "metadata": {},
     "output_type": "execute_result"
    }
   ],
   "source": [
    "sys.getsizeof(p)"
   ]
  },
  {
   "cell_type": "code",
   "execution_count": 175,
   "id": "eb0e92df-6bcc-4f46-9bde-16f385a87044",
   "metadata": {},
   "outputs": [
    {
     "data": {
      "text/plain": [
       "28"
      ]
     },
     "execution_count": 175,
     "metadata": {},
     "output_type": "execute_result"
    }
   ],
   "source": [
    "sys.getsizeof(p[0])"
   ]
  },
  {
   "cell_type": "code",
   "execution_count": 181,
   "id": "652f52ea-3d69-448e-ae4f-2c6fa7217f94",
   "metadata": {},
   "outputs": [],
   "source": [
    "n = np.array([1, 2, 3, 4], dtype=np.int32)"
   ]
  },
  {
   "cell_type": "code",
   "execution_count": 182,
   "id": "e2ab9dd9-558e-4d5f-969e-4fa51a25312f",
   "metadata": {},
   "outputs": [
    {
     "data": {
      "text/plain": [
       "128"
      ]
     },
     "execution_count": 182,
     "metadata": {},
     "output_type": "execute_result"
    }
   ],
   "source": [
    "sys.getsizeof(n)"
   ]
  },
  {
   "cell_type": "code",
   "execution_count": 186,
   "id": "b84404c1-564f-479b-abad-13a6c7b5e86d",
   "metadata": {},
   "outputs": [
    {
     "data": {
      "text/plain": [
       "4"
      ]
     },
     "execution_count": 186,
     "metadata": {},
     "output_type": "execute_result"
    }
   ],
   "source": [
    "n.itemsize"
   ]
  },
  {
   "cell_type": "markdown",
   "id": "efc86361-b6ec-45cb-938c-4d3a66d25376",
   "metadata": {},
   "source": [
    "#### Listenvergleich"
   ]
  },
  {
   "cell_type": "code",
   "execution_count": 190,
   "id": "8d82694b-29d9-4a02-920b-34844682e67b",
   "metadata": {},
   "outputs": [],
   "source": [
    "import time"
   ]
  },
  {
   "cell_type": "code",
   "execution_count": 193,
   "id": "91546747-9f81-4075-b215-c0f05af099ae",
   "metadata": {},
   "outputs": [],
   "source": [
    "def measureTime(func):\n",
    "    start = time.time()\n",
    "    func()\n",
    "    end = time.time()\n",
    "    print(end - start)"
   ]
  },
  {
   "cell_type": "code",
   "execution_count": 196,
   "id": "5c2aa2ce-1940-4e96-adb0-96f3c6f867b8",
   "metadata": {},
   "outputs": [
    {
     "name": "stdout",
     "output_type": "stream",
     "text": [
      "3.1731433868408203\n"
     ]
    }
   ],
   "source": [
    "def createPythonList():\n",
    "    list(range(100_000_000))\n",
    "\n",
    "measureTime(createPythonList)"
   ]
  },
  {
   "cell_type": "code",
   "execution_count": 202,
   "id": "4cd68ae3-43fe-4b32-8481-86014e02de81",
   "metadata": {},
   "outputs": [
    {
     "name": "stdout",
     "output_type": "stream",
     "text": [
      "0.21944093704223633\n"
     ]
    }
   ],
   "source": [
    "def createNumpyArray():\n",
    "    npArray = np.arange(100_000_000)\n",
    "    \n",
    "measureTime(createNumpyArray)"
   ]
  },
  {
   "cell_type": "markdown",
   "id": "a56a584b-17db-4b7c-9212-da9e581fb6dd",
   "metadata": {},
   "source": [
    "### Andere Funktionen"
   ]
  },
  {
   "cell_type": "code",
   "execution_count": 203,
   "id": "06538482-2054-4ed9-a85c-d65194e16255",
   "metadata": {},
   "outputs": [],
   "source": [
    "# Random Arrays erzeugen"
   ]
  },
  {
   "cell_type": "code",
   "execution_count": 205,
   "id": "081d2b4f-c6c9-4055-9fd4-cfb0ac3c65d6",
   "metadata": {},
   "outputs": [
    {
     "data": {
      "text/plain": [
       "array([0.32442288, 0.32277606, 0.25505223, 0.23512418, 0.38540515,\n",
       "       0.00787658, 0.02448484, 0.3722167 , 0.36755323, 0.68367341])"
      ]
     },
     "execution_count": 205,
     "metadata": {},
     "output_type": "execute_result"
    }
   ],
   "source": [
    "np.random.random(10)  # Array mit X Stellen von 0-1"
   ]
  },
  {
   "cell_type": "code",
   "execution_count": 210,
   "id": "3e49162d-6d0d-4aed-9a0a-7526db044e8d",
   "metadata": {},
   "outputs": [
    {
     "data": {
      "text/plain": [
       "6"
      ]
     },
     "execution_count": 210,
     "metadata": {},
     "output_type": "execute_result"
    }
   ],
   "source": [
    "np.random.randint(10)  # Einzelne Zahl von 0-X"
   ]
  },
  {
   "cell_type": "code",
   "execution_count": 214,
   "id": "f88aebba-a6cf-4e32-9736-3c990fe9e57b",
   "metadata": {},
   "outputs": [
    {
     "data": {
      "text/plain": [
       "array([[[2, 5, 1],\n",
       "        [5, 9, 2],\n",
       "        [2, 9, 7]],\n",
       "\n",
       "       [[0, 0, 0],\n",
       "        [8, 1, 8],\n",
       "        [5, 2, 6]],\n",
       "\n",
       "       [[2, 4, 1],\n",
       "        [2, 0, 4],\n",
       "        [7, 1, 4]]])"
      ]
     },
     "execution_count": 214,
     "metadata": {},
     "output_type": "execute_result"
    }
   ],
   "source": [
    "np.random.randint(10, size=(3, 3, 3))  # Würfel (3x3x3) mit Zahlen bis 10"
   ]
  },
  {
   "cell_type": "markdown",
   "id": "5552e055-fdea-434c-ab0f-ce5a5c8a6ea2",
   "metadata": {},
   "source": [
    "reshape\n",
    "\n",
    "Array umformen in eine andere Form (mit anderen Dimensionen)"
   ]
  },
  {
   "cell_type": "code",
   "execution_count": 219,
   "id": "292cd0cb-a74d-4bbe-b0ee-b96b093b70d6",
   "metadata": {},
   "outputs": [
    {
     "data": {
      "text/plain": [
       "array([ 0,  1,  2,  3,  4,  5,  6,  7,  8,  9, 10, 11, 12, 13, 14, 15, 16,\n",
       "       17, 18, 19, 20, 21, 22, 23, 24, 25, 26, 27, 28, 29, 30, 31, 32, 33,\n",
       "       34, 35, 36, 37, 38, 39, 40, 41, 42, 43, 44, 45, 46, 47, 48, 49, 50,\n",
       "       51, 52, 53, 54, 55, 56, 57, 58, 59, 60, 61, 62, 63, 64, 65, 66, 67,\n",
       "       68, 69, 70, 71, 72, 73, 74, 75, 76, 77, 78, 79, 80, 81, 82, 83, 84,\n",
       "       85, 86, 87, 88, 89, 90, 91, 92, 93, 94, 95, 96, 97, 98, 99])"
      ]
     },
     "execution_count": 219,
     "metadata": {},
     "output_type": "execute_result"
    }
   ],
   "source": [
    "np.arange(100)"
   ]
  },
  {
   "cell_type": "code",
   "execution_count": 220,
   "id": "d38043ea-c1d8-43e7-9987-93ecafb4f0cc",
   "metadata": {},
   "outputs": [],
   "source": [
    "# Aufgabenstellung: Matrix mit 10x10 Elementen erzeugen"
   ]
  },
  {
   "cell_type": "code",
   "execution_count": 221,
   "id": "f3493f9e-2315-4a45-8c5b-cbe20716a912",
   "metadata": {},
   "outputs": [
    {
     "data": {
      "text/plain": [
       "array([[ 0,  1,  2,  3,  4,  5,  6,  7,  8,  9],\n",
       "       [10, 11, 12, 13, 14, 15, 16, 17, 18, 19],\n",
       "       [20, 21, 22, 23, 24, 25, 26, 27, 28, 29],\n",
       "       [30, 31, 32, 33, 34, 35, 36, 37, 38, 39],\n",
       "       [40, 41, 42, 43, 44, 45, 46, 47, 48, 49],\n",
       "       [50, 51, 52, 53, 54, 55, 56, 57, 58, 59],\n",
       "       [60, 61, 62, 63, 64, 65, 66, 67, 68, 69],\n",
       "       [70, 71, 72, 73, 74, 75, 76, 77, 78, 79],\n",
       "       [80, 81, 82, 83, 84, 85, 86, 87, 88, 89],\n",
       "       [90, 91, 92, 93, 94, 95, 96, 97, 98, 99]])"
      ]
     },
     "execution_count": 221,
     "metadata": {},
     "output_type": "execute_result"
    }
   ],
   "source": [
    "np.arange(100).reshape(10, 10)"
   ]
  },
  {
   "cell_type": "code",
   "execution_count": 223,
   "id": "d2d70e9a-ddee-49ea-a6e8-22de68233b3c",
   "metadata": {},
   "outputs": [
    {
     "data": {
      "text/plain": [
       "array([[ 0,  1,  2],\n",
       "       [ 3,  4,  5],\n",
       "       [ 6,  7,  8],\n",
       "       [ 9, 10, 11],\n",
       "       [12, 13, 14],\n",
       "       [15, 16, 17],\n",
       "       [18, 19, 20],\n",
       "       [21, 22, 23],\n",
       "       [24, 25, 26],\n",
       "       [27, 28, 29],\n",
       "       [30, 31, 32],\n",
       "       [33, 34, 35],\n",
       "       [36, 37, 38],\n",
       "       [39, 40, 41],\n",
       "       [42, 43, 44],\n",
       "       [45, 46, 47],\n",
       "       [48, 49, 50],\n",
       "       [51, 52, 53],\n",
       "       [54, 55, 56],\n",
       "       [57, 58, 59],\n",
       "       [60, 61, 62],\n",
       "       [63, 64, 65],\n",
       "       [66, 67, 68],\n",
       "       [69, 70, 71],\n",
       "       [72, 73, 74],\n",
       "       [75, 76, 77],\n",
       "       [78, 79, 80],\n",
       "       [81, 82, 83],\n",
       "       [84, 85, 86],\n",
       "       [87, 88, 89],\n",
       "       [90, 91, 92],\n",
       "       [93, 94, 95],\n",
       "       [96, 97, 98]])"
      ]
     },
     "execution_count": 223,
     "metadata": {},
     "output_type": "execute_result"
    }
   ],
   "source": [
    "np.arange(99).reshape(33, 3)"
   ]
  },
  {
   "cell_type": "code",
   "execution_count": 226,
   "id": "1b0226ef-b9a5-4f89-82d5-53b0ff1da125",
   "metadata": {},
   "outputs": [
    {
     "data": {
      "text/plain": [
       "array([[0],\n",
       "       [1],\n",
       "       [2],\n",
       "       [3],\n",
       "       [4],\n",
       "       [5],\n",
       "       [6],\n",
       "       [7],\n",
       "       [8],\n",
       "       [9]])"
      ]
     },
     "execution_count": 226,
     "metadata": {},
     "output_type": "execute_result"
    }
   ],
   "source": [
    "# Beispiel: Glättung\n",
    "g = np.arange(10).reshape(10, 1)\n",
    "g"
   ]
  },
  {
   "cell_type": "code",
   "execution_count": 228,
   "id": "677818ed-ecaa-43ba-aae0-1e58830edc0f",
   "metadata": {},
   "outputs": [
    {
     "data": {
      "text/plain": [
       "array([0, 1, 2, 3, 4, 5, 6, 7, 8, 9])"
      ]
     },
     "execution_count": 228,
     "metadata": {},
     "output_type": "execute_result"
    }
   ],
   "source": [
    "g.reshape(-1)  # Nimm eine Dimension weg"
   ]
  },
  {
   "cell_type": "code",
   "execution_count": 246,
   "id": "d8a4e04f-89ae-42cf-8875-fbf775d1f22e",
   "metadata": {},
   "outputs": [
    {
     "data": {
      "text/plain": [
       "array([[ 0],\n",
       "       [ 1],\n",
       "       [ 2],\n",
       "       [ 3],\n",
       "       [ 4],\n",
       "       [ 5],\n",
       "       [ 6],\n",
       "       [ 7],\n",
       "       [ 8],\n",
       "       [ 9],\n",
       "       [10],\n",
       "       [11],\n",
       "       [12],\n",
       "       [13],\n",
       "       [14],\n",
       "       [15],\n",
       "       [16],\n",
       "       [17],\n",
       "       [18],\n",
       "       [19]])"
      ]
     },
     "execution_count": 246,
     "metadata": {},
     "output_type": "execute_result"
    }
   ],
   "source": [
    "np.arange(20).reshape(-1, 1)  # 1D-Array zu einem 2D-Array konvertieren (mit -1)"
   ]
  },
  {
   "cell_type": "markdown",
   "id": "c3d794dd-edc6-439e-bcdd-ed21849fd9ae",
   "metadata": {},
   "source": [
    "linspace\n",
    "\n",
    "Array von X bis Y erzeugen, mit Z Elementen mit gleichen Abständen zwischen jedem Element"
   ]
  },
  {
   "cell_type": "code",
   "execution_count": 256,
   "id": "4eb1da23-95c2-4d98-b994-8de3a6b4eeae",
   "metadata": {},
   "outputs": [
    {
     "data": {
      "text/plain": [
       "array([ 0. ,  0.1,  0.2,  0.3,  0.4,  0.5,  0.6,  0.7,  0.8,  0.9,  1. ,\n",
       "        1.1,  1.2,  1.3,  1.4,  1.5,  1.6,  1.7,  1.8,  1.9,  2. ,  2.1,\n",
       "        2.2,  2.3,  2.4,  2.5,  2.6,  2.7,  2.8,  2.9,  3. ,  3.1,  3.2,\n",
       "        3.3,  3.4,  3.5,  3.6,  3.7,  3.8,  3.9,  4. ,  4.1,  4.2,  4.3,\n",
       "        4.4,  4.5,  4.6,  4.7,  4.8,  4.9,  5. ,  5.1,  5.2,  5.3,  5.4,\n",
       "        5.5,  5.6,  5.7,  5.8,  5.9,  6. ,  6.1,  6.2,  6.3,  6.4,  6.5,\n",
       "        6.6,  6.7,  6.8,  6.9,  7. ,  7.1,  7.2,  7.3,  7.4,  7.5,  7.6,\n",
       "        7.7,  7.8,  7.9,  8. ,  8.1,  8.2,  8.3,  8.4,  8.5,  8.6,  8.7,\n",
       "        8.8,  8.9,  9. ,  9.1,  9.2,  9.3,  9.4,  9.5,  9.6,  9.7,  9.8,\n",
       "        9.9, 10. ])"
      ]
     },
     "execution_count": 256,
     "metadata": {},
     "output_type": "execute_result"
    }
   ],
   "source": [
    "# Aufgabenstellung: Array von 0 bis 10, mit 0.1 Abständen\n",
    "np.linspace(0, 10, 101)"
   ]
  },
  {
   "cell_type": "code",
   "execution_count": 261,
   "id": "2b2d01fc-081e-404c-88cd-954cf0942009",
   "metadata": {},
   "outputs": [],
   "source": [
    "# Verwendung: Als X-Achse bei Diagrammen"
   ]
  },
  {
   "cell_type": "code",
   "execution_count": 262,
   "id": "df40f3f0-0094-468e-b0dc-51d2cf44f049",
   "metadata": {},
   "outputs": [],
   "source": [
    "import matplotlib.pyplot as plt"
   ]
  },
  {
   "cell_type": "code",
   "execution_count": 266,
   "id": "8fe6e705-d13d-4f39-80e5-7c52e3674fc4",
   "metadata": {},
   "outputs": [],
   "source": [
    "werte = np.random.random(10)"
   ]
  },
  {
   "cell_type": "code",
   "execution_count": 267,
   "id": "b4b05a58-d0da-4bc7-845c-0192b388ecfc",
   "metadata": {
    "collapsed": true,
    "jupyter": {
     "outputs_hidden": true
    }
   },
   "outputs": [
    {
     "data": {
      "text/plain": [
       "[<matplotlib.lines.Line2D at 0x295a60cd370>]"
      ]
     },
     "execution_count": 267,
     "metadata": {},
     "output_type": "execute_result"
    },
    {
     "data": {
      "image/png": "[encoded data removed]",
      "text/plain": [
       "<Figure size 640x480 with 1 Axes>"
      ]
     },
     "metadata": {},
     "output_type": "display_data"
    }
   ],
   "source": [
    "plt.plot(werte)"
   ]
  },
  {
   "cell_type": "code",
   "execution_count": 272,
   "id": "a89385d6-5885-401e-98fe-a99201b05952",
   "metadata": {
    "collapsed": true,
    "jupyter": {
     "outputs_hidden": true
    }
   },
   "outputs": [
    {
     "data": {
      "text/plain": [
       "[<matplotlib.lines.Line2D at 0x295a84135c0>]"
      ]
     },
     "execution_count": 272,
     "metadata": {},
     "output_type": "execute_result"
    },
    {
     "data": {
      "image/png": "[encoded data removed]",
      "text/plain": [
       "<Figure size 640x480 with 1 Axes>"
      ]
     },
     "metadata": {},
     "output_type": "display_data"
    }
   ],
   "source": [
    "plt.plot(np.linspace(0, 100, 10), werte)"
   ]
  },
  {
   "cell_type": "markdown",
   "id": "33e3c563-1d87-4563-9cbd-e985ac38fc74",
   "metadata": {},
   "source": [
    "zeros, ones\n",
    "\n",
    "Numpy Array erzeugen mit X Elementen gefüllt mit 0en oder 1en"
   ]
  },
  {
   "cell_type": "code",
   "execution_count": 273,
   "id": "58ee9dfe-6181-4f3a-bfd0-e166a8013f3a",
   "metadata": {},
   "outputs": [
    {
     "data": {
      "text/plain": [
       "array([0., 0., 0., 0., 0., 0., 0., 0., 0., 0., 0., 0., 0., 0., 0., 0., 0.,\n",
       "       0., 0., 0., 0., 0., 0., 0., 0., 0., 0., 0., 0., 0., 0., 0., 0., 0.,\n",
       "       0., 0., 0., 0., 0., 0., 0., 0., 0., 0., 0., 0., 0., 0., 0., 0., 0.,\n",
       "       0., 0., 0., 0., 0., 0., 0., 0., 0., 0., 0., 0., 0., 0., 0., 0., 0.,\n",
       "       0., 0., 0., 0., 0., 0., 0., 0., 0., 0., 0., 0., 0., 0., 0., 0., 0.,\n",
       "       0., 0., 0., 0., 0., 0., 0., 0., 0., 0., 0., 0., 0., 0., 0.])"
      ]
     },
     "execution_count": 273,
     "metadata": {},
     "output_type": "execute_result"
    }
   ],
   "source": [
    "np.zeros(100)"
   ]
  },
  {
   "cell_type": "code",
   "execution_count": 274,
   "id": "5c81e7ab-7787-421e-842d-b955d25a5f6e",
   "metadata": {},
   "outputs": [
    {
     "data": {
      "text/plain": [
       "array([1., 1., 1., 1., 1., 1., 1., 1., 1., 1., 1., 1., 1., 1., 1., 1., 1.,\n",
       "       1., 1., 1., 1., 1., 1., 1., 1., 1., 1., 1., 1., 1., 1., 1., 1., 1.,\n",
       "       1., 1., 1., 1., 1., 1., 1., 1., 1., 1., 1., 1., 1., 1., 1., 1., 1.,\n",
       "       1., 1., 1., 1., 1., 1., 1., 1., 1., 1., 1., 1., 1., 1., 1., 1., 1.,\n",
       "       1., 1., 1., 1., 1., 1., 1., 1., 1., 1., 1., 1., 1., 1., 1., 1., 1.,\n",
       "       1., 1., 1., 1., 1., 1., 1., 1., 1., 1., 1., 1., 1., 1., 1.])"
      ]
     },
     "execution_count": 274,
     "metadata": {},
     "output_type": "execute_result"
    }
   ],
   "source": [
    "np.ones(100)"
   ]
  },
  {
   "cell_type": "code",
   "execution_count": 275,
   "id": "4278f02d-6340-43c6-99f3-1b736113e230",
   "metadata": {},
   "outputs": [],
   "source": [
    "# Verwendung: Boolean Masken"
   ]
  },
  {
   "cell_type": "code",
   "execution_count": 276,
   "id": "ba7889ce-2353-488c-bb6f-050fe513b14c",
   "metadata": {},
   "outputs": [
    {
     "data": {
      "text/plain": [
       "array([False, False, False, False, False, False, False, False, False,\n",
       "       False])"
      ]
     },
     "execution_count": 276,
     "metadata": {},
     "output_type": "execute_result"
    }
   ],
   "source": [
    "np.zeros(10) == True"
   ]
  },
  {
   "cell_type": "code",
   "execution_count": 277,
   "id": "09434703-400d-4f0b-9e41-635a423aec7d",
   "metadata": {},
   "outputs": [
    {
     "data": {
      "text/plain": [
       "array([ True,  True,  True,  True,  True,  True,  True,  True,  True,\n",
       "        True])"
      ]
     },
     "execution_count": 277,
     "metadata": {},
     "output_type": "execute_result"
    }
   ],
   "source": [
    "np.ones(10) == True"
   ]
  },
  {
   "cell_type": "code",
   "execution_count": 278,
   "id": "998eeed5-ef53-4e22-8426-10cf342f2f1e",
   "metadata": {},
   "outputs": [
    {
     "data": {
      "text/plain": [
       "False"
      ]
     },
     "execution_count": 278,
     "metadata": {},
     "output_type": "execute_result"
    }
   ],
   "source": [
    "\"Hallo\" == True"
   ]
  },
  {
   "cell_type": "code",
   "execution_count": 279,
   "id": "1ea26d30-6705-4850-9b51-78cd2662dc4d",
   "metadata": {},
   "outputs": [
    {
     "data": {
      "text/plain": [
       "True"
      ]
     },
     "execution_count": 279,
     "metadata": {},
     "output_type": "execute_result"
    }
   ],
   "source": [
    "1 == True"
   ]
  },
  {
   "cell_type": "code",
   "execution_count": 280,
   "id": "2c6de7ba-619e-4254-9d31-b523381a98fe",
   "metadata": {},
   "outputs": [
    {
     "data": {
      "text/plain": [
       "False"
      ]
     },
     "execution_count": 280,
     "metadata": {},
     "output_type": "execute_result"
    }
   ],
   "source": [
    "0 == True"
   ]
  },
  {
   "cell_type": "code",
   "execution_count": 281,
   "id": "ca2535cc-f11d-41ee-8bd9-3400981f9251",
   "metadata": {},
   "outputs": [
    {
     "data": {
      "text/plain": [
       "False"
      ]
     },
     "execution_count": 281,
     "metadata": {},
     "output_type": "execute_result"
    }
   ],
   "source": [
    "None == True"
   ]
  },
  {
   "cell_type": "code",
   "execution_count": 282,
   "id": "1b7afaa8-5925-499d-ae4b-9e1867fba197",
   "metadata": {},
   "outputs": [
    {
     "data": {
      "text/plain": [
       "array([False, False, False, False, False, False, False, False, False,\n",
       "       False])"
      ]
     },
     "execution_count": 282,
     "metadata": {},
     "output_type": "execute_result"
    }
   ],
   "source": [
    "werte == True"
   ]
  },
  {
   "cell_type": "markdown",
   "id": "4ad2479c-233a-43b8-b2e4-a675e5d194b9",
   "metadata": {},
   "source": [
    "hstack\n",
    "\n",
    "Horizontal Stack\n",
    "\n",
    "Arrays Spaltenweise aneinanderhängen"
   ]
  },
  {
   "cell_type": "code",
   "execution_count": 288,
   "id": "aeb3eedf-d4f7-4df9-8825-d4c4c3ccfa65",
   "metadata": {},
   "outputs": [
    {
     "data": {
      "text/plain": [
       "array([[  0,   1,   2,   3,   4,   5,   6,   7,   8,   9],\n",
       "       [ 10,  11,  12,  13,  14,  15,  16,  17,  18,  19],\n",
       "       [ 20,  21,  22,  23,  24,  25,  26,  27,  28,  29],\n",
       "       [ 30,  31,  32,  33,  34,  35,  36,  37,  38,  39],\n",
       "       [ 40,  41,  42,  43,  44,  45,  46,  47,  48,  49],\n",
       "       [ 50,  51,  52,  53,  54,  55,  56,  57,  58,  59],\n",
       "       [ 60,  61,  62,  63,  64,  65,  66,  67,  68,  69],\n",
       "       [ 70,  71,  72,  73,  74,  75,  76,  77,  78,  79],\n",
       "       [ 80,  81,  82,  83,  84,  85,  86,  87,  88,  89],\n",
       "       [ 90,  91,  92,  93,  94,  95,  96,  97,  98,  99],\n",
       "       [100, 101, 102, 103, 104, 105, 106, 107, 108, 109],\n",
       "       [110, 111, 112, 113, 114, 115, 116, 117, 118, 119],\n",
       "       [120, 121, 122, 123, 124, 125, 126, 127, 128, 129],\n",
       "       [130, 131, 132, 133, 134, 135, 136, 137, 138, 139],\n",
       "       [140, 141, 142, 143, 144, 145, 146, 147, 148, 149],\n",
       "       [150, 151, 152, 153, 154, 155, 156, 157, 158, 159],\n",
       "       [160, 161, 162, 163, 164, 165, 166, 167, 168, 169],\n",
       "       [170, 171, 172, 173, 174, 175, 176, 177, 178, 179],\n",
       "       [180, 181, 182, 183, 184, 185, 186, 187, 188, 189],\n",
       "       [190, 191, 192, 193, 194, 195, 196, 197, 198, 199]])"
      ]
     },
     "execution_count": 288,
     "metadata": {},
     "output_type": "execute_result"
    }
   ],
   "source": [
    "tabelle = np.arange(200).reshape(20, 10)\n",
    "tabelle"
   ]
  },
  {
   "cell_type": "code",
   "execution_count": 295,
   "id": "43e8761d-0b92-44f7-82a6-2c9dda4430d3",
   "metadata": {},
   "outputs": [
    {
     "name": "stdout",
     "output_type": "stream",
     "text": [
      "[-1. -1. -1. -1. -1. -1. -1. -1. -1. -1. -1. -1. -1. -1. -1. -1. -1. -1.\n",
      " -1. -1.]\n",
      "[-1. -1. -1. -1. -1. -1. -1. -1. -1. -1. -1. -1. -1. -1. -1. -1. -1. -1.\n",
      " -1. -1.]\n"
     ]
    }
   ],
   "source": [
    "# Aufgabenstellung: An die Tabelle eine zusätzliche Spalte anhängen\n",
    "# Diese Spalte soll mit -1 gefüllt sein\n",
    "minus1 = np.zeros(20) - 1\n",
    "print(minus1)\n",
    "minus1 = -np.ones(20)\n",
    "print(minus1)"
   ]
  },
  {
   "cell_type": "code",
   "execution_count": 298,
   "id": "019e65ec-10ce-4b2f-b288-d8516b4bf584",
   "metadata": {},
   "outputs": [
    {
     "ename": "ValueError",
     "evalue": "all the input arrays must have same number of dimensions, but the array at index 0 has 2 dimension(s) and the array at index 1 has 1 dimension(s)",
     "output_type": "error",
     "traceback": [
      "\u001b[1;31m---------------------------------------------------------------------------\u001b[0m",
      "\u001b[1;31mValueError\u001b[0m                                Traceback (most recent call last)",
      "Cell \u001b[1;32mIn[298], line 1\u001b[0m\n\u001b[1;32m----> 1\u001b[0m \u001b[43mnp\u001b[49m\u001b[38;5;241;43m.\u001b[39;49m\u001b[43mhstack\u001b[49m\u001b[43m(\u001b[49m\u001b[43m(\u001b[49m\u001b[43mtabelle\u001b[49m\u001b[43m,\u001b[49m\u001b[43m \u001b[49m\u001b[43mminus1\u001b[49m\u001b[43m)\u001b[49m\u001b[43m)\u001b[49m  \u001b[38;5;66;03m# Parameter muss immer ein Tupel sein (Parameterliste nochmal einklammern)\u001b[39;00m\n",
      "File \u001b[1;32m~\\AppData\\Local\\Programs\\Python\\Python312\\Lib\\site-packages\\numpy\\core\\shape_base.py:359\u001b[0m, in \u001b[0;36mhstack\u001b[1;34m(tup, dtype, casting)\u001b[0m\n\u001b[0;32m    357\u001b[0m     \u001b[38;5;28;01mreturn\u001b[39;00m _nx\u001b[38;5;241m.\u001b[39mconcatenate(arrs, \u001b[38;5;241m0\u001b[39m, dtype\u001b[38;5;241m=\u001b[39mdtype, casting\u001b[38;5;241m=\u001b[39mcasting)\n\u001b[0;32m    358\u001b[0m \u001b[38;5;28;01melse\u001b[39;00m:\n\u001b[1;32m--> 359\u001b[0m     \u001b[38;5;28;01mreturn\u001b[39;00m \u001b[43m_nx\u001b[49m\u001b[38;5;241;43m.\u001b[39;49m\u001b[43mconcatenate\u001b[49m\u001b[43m(\u001b[49m\u001b[43marrs\u001b[49m\u001b[43m,\u001b[49m\u001b[43m \u001b[49m\u001b[38;5;241;43m1\u001b[39;49m\u001b[43m,\u001b[49m\u001b[43m \u001b[49m\u001b[43mdtype\u001b[49m\u001b[38;5;241;43m=\u001b[39;49m\u001b[43mdtype\u001b[49m\u001b[43m,\u001b[49m\u001b[43m \u001b[49m\u001b[43mcasting\u001b[49m\u001b[38;5;241;43m=\u001b[39;49m\u001b[43mcasting\u001b[49m\u001b[43m)\u001b[49m\n",
      "\u001b[1;31mValueError\u001b[0m: all the input arrays must have same number of dimensions, but the array at index 0 has 2 dimension(s) and the array at index 1 has 1 dimension(s)"
     ]
    }
   ],
   "source": [
    "np.hstack((tabelle, minus1))  # Parameter muss immer ein Tupel sein (Parameterliste nochmal einklammern)"
   ]
  },
  {
   "cell_type": "code",
   "execution_count": 299,
   "id": "6aca69c1-b8d1-46bf-a6f2-aad6853cf12c",
   "metadata": {},
   "outputs": [
    {
     "data": {
      "text/plain": [
       "array([[-1.],\n",
       "       [-1.],\n",
       "       [-1.],\n",
       "       [-1.],\n",
       "       [-1.],\n",
       "       [-1.],\n",
       "       [-1.],\n",
       "       [-1.],\n",
       "       [-1.],\n",
       "       [-1.],\n",
       "       [-1.],\n",
       "       [-1.],\n",
       "       [-1.],\n",
       "       [-1.],\n",
       "       [-1.],\n",
       "       [-1.],\n",
       "       [-1.],\n",
       "       [-1.],\n",
       "       [-1.],\n",
       "       [-1.]])"
      ]
     },
     "execution_count": 299,
     "metadata": {},
     "output_type": "execute_result"
    }
   ],
   "source": [
    "minus1.reshape(-1, 1)"
   ]
  },
  {
   "cell_type": "code",
   "execution_count": 300,
   "id": "62cafb92-f5d8-4b88-a4db-556709460cb1",
   "metadata": {},
   "outputs": [
    {
     "data": {
      "text/plain": [
       "array([[  0.,   1.,   2.,   3.,   4.,   5.,   6.,   7.,   8.,   9.,  -1.],\n",
       "       [ 10.,  11.,  12.,  13.,  14.,  15.,  16.,  17.,  18.,  19.,  -1.],\n",
       "       [ 20.,  21.,  22.,  23.,  24.,  25.,  26.,  27.,  28.,  29.,  -1.],\n",
       "       [ 30.,  31.,  32.,  33.,  34.,  35.,  36.,  37.,  38.,  39.,  -1.],\n",
       "       [ 40.,  41.,  42.,  43.,  44.,  45.,  46.,  47.,  48.,  49.,  -1.],\n",
       "       [ 50.,  51.,  52.,  53.,  54.,  55.,  56.,  57.,  58.,  59.,  -1.],\n",
       "       [ 60.,  61.,  62.,  63.,  64.,  65.,  66.,  67.,  68.,  69.,  -1.],\n",
       "       [ 70.,  71.,  72.,  73.,  74.,  75.,  76.,  77.,  78.,  79.,  -1.],\n",
       "       [ 80.,  81.,  82.,  83.,  84.,  85.,  86.,  87.,  88.,  89.,  -1.],\n",
       "       [ 90.,  91.,  92.,  93.,  94.,  95.,  96.,  97.,  98.,  99.,  -1.],\n",
       "       [100., 101., 102., 103., 104., 105., 106., 107., 108., 109.,  -1.],\n",
       "       [110., 111., 112., 113., 114., 115., 116., 117., 118., 119.,  -1.],\n",
       "       [120., 121., 122., 123., 124., 125., 126., 127., 128., 129.,  -1.],\n",
       "       [130., 131., 132., 133., 134., 135., 136., 137., 138., 139.,  -1.],\n",
       "       [140., 141., 142., 143., 144., 145., 146., 147., 148., 149.,  -1.],\n",
       "       [150., 151., 152., 153., 154., 155., 156., 157., 158., 159.,  -1.],\n",
       "       [160., 161., 162., 163., 164., 165., 166., 167., 168., 169.,  -1.],\n",
       "       [170., 171., 172., 173., 174., 175., 176., 177., 178., 179.,  -1.],\n",
       "       [180., 181., 182., 183., 184., 185., 186., 187., 188., 189.,  -1.],\n",
       "       [190., 191., 192., 193., 194., 195., 196., 197., 198., 199.,  -1.]])"
      ]
     },
     "execution_count": 300,
     "metadata": {},
     "output_type": "execute_result"
    }
   ],
   "source": [
    "np.hstack((tabelle, minus1.reshape(-1, 1)))  # Der zweite Parameter muss zweidimensional sein"
   ]
  },
  {
   "cell_type": "code",
   "execution_count": 302,
   "id": "f179f4d7-90f4-49cd-855b-2f318833c64e",
   "metadata": {},
   "outputs": [
    {
     "data": {
      "text/plain": [
       "array([[  0,  10,  20,  30,  40,  50,  60,  70,  80,  90, 100, 110, 120,\n",
       "        130, 140, 150, 160, 170, 180, 190],\n",
       "       [  1,  11,  21,  31,  41,  51,  61,  71,  81,  91, 101, 111, 121,\n",
       "        131, 141, 151, 161, 171, 181, 191],\n",
       "       [  2,  12,  22,  32,  42,  52,  62,  72,  82,  92, 102, 112, 122,\n",
       "        132, 142, 152, 162, 172, 182, 192],\n",
       "       [  3,  13,  23,  33,  43,  53,  63,  73,  83,  93, 103, 113, 123,\n",
       "        133, 143, 153, 163, 173, 183, 193],\n",
       "       [  4,  14,  24,  34,  44,  54,  64,  74,  84,  94, 104, 114, 124,\n",
       "        134, 144, 154, 164, 174, 184, 194],\n",
       "       [  5,  15,  25,  35,  45,  55,  65,  75,  85,  95, 105, 115, 125,\n",
       "        135, 145, 155, 165, 175, 185, 195],\n",
       "       [  6,  16,  26,  36,  46,  56,  66,  76,  86,  96, 106, 116, 126,\n",
       "        136, 146, 156, 166, 176, 186, 196],\n",
       "       [  7,  17,  27,  37,  47,  57,  67,  77,  87,  97, 107, 117, 127,\n",
       "        137, 147, 157, 167, 177, 187, 197],\n",
       "       [  8,  18,  28,  38,  48,  58,  68,  78,  88,  98, 108, 118, 128,\n",
       "        138, 148, 158, 168, 178, 188, 198],\n",
       "       [  9,  19,  29,  39,  49,  59,  69,  79,  89,  99, 109, 119, 129,\n",
       "        139, 149, 159, 169, 179, 189, 199]])"
      ]
     },
     "execution_count": 302,
     "metadata": {},
     "output_type": "execute_result"
    }
   ],
   "source": [
    "np.swapaxes(tabelle, axis1=0, axis2=1)"
   ]
  }
 ],
 "metadata": {
  "kernelspec": {
   "display_name": "Python 3 (ipykernel)",
   "language": "python",
   "name": "python3"
  },
  "language_info": {
   "codemirror_mode": {
    "name": "ipython",
    "version": 3
   },
   "file_extension": ".py",
   "mimetype": "text/x-python",
   "name": "python",
   "nbconvert_exporter": "python",
   "pygments_lexer": "ipython3",
   "version": "3.12.3"
  }
 },
 "nbformat": 4,
 "nbformat_minor": 5
}
