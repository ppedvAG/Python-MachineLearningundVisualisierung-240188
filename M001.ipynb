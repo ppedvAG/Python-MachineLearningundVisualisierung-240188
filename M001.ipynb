{
 "cells": [
  {
   "cell_type": "markdown",
   "id": "c8b23ba6-905f-41cf-a745-7c85d7ee7274",
   "metadata": {},
   "source": [
    "## IPython Notebooks\n",
    "\n",
    "Funktionen:\n",
    "- Zellen\n",
    "    - Code modular ausführen\n",
    "    - Schöne Texte einfügen (Formatierungen)\n",
    "    - Code schnell ausführen\n",
    "- Grafiken darstellen\n",
    "    - Tabellen\n",
    "    - Graphen (Diagramme)\n",
    "\n",
    "Verwendung:\n",
    "- Zellen mit Code\n",
    "- Zellen können einzeln ausgeführt werden\n",
    "- Inhalte aus früheren Zellen sind in späteren Zellen verfügbar"
   ]
  },
  {
   "cell_type": "code",
   "execution_count": 3,
   "id": "aa7891d5-9d0c-481f-848e-f392a6dfaefa",
   "metadata": {},
   "outputs": [],
   "source": [
    "x = 5"
   ]
  },
  {
   "cell_type": "code",
   "execution_count": 5,
   "id": "436615cf-a438-4158-a280-e8a3bb271afb",
   "metadata": {},
   "outputs": [
    {
     "data": {
      "text/plain": [
       "25"
      ]
     },
     "execution_count": 5,
     "metadata": {},
     "output_type": "execute_result"
    }
   ],
   "source": [
    "x ** 2  # x ist hier verfügbar"
   ]
  },
  {
   "cell_type": "markdown",
   "id": "91ec5c09-d0af-4338-ad5f-b933d899f65c",
   "metadata": {},
   "source": [
    "### Markdown\n",
    "\n",
    "Text mit Formatierung einbinden (Oben auf Markdown umschalten)\n",
    "\n",
    "## Überschrift\n",
    "### Überschrift 2\n",
    "#### Überschrift 3\n",
    "##### Überschrift 4\n",
    "###### Überschrift 5\n",
    "\n",
    "Aufzählungen\n",
    "- Unterpunkt\n",
    "    - Unterunterpunkt\n",
    "        - Unterunterunterpunkt\n",
    "            - Unterunterunterunterpunkt\n",
    "         \n",
    "**Fetter Text**\n",
    "\n",
    "*Kursiver Text*\n",
    "\n",
    "---\n",
    "\n",
    "> Zitat: Hallo [@ppedvAG](https://ppedv.de/) "
   ]
  },
  {
   "cell_type": "markdown",
   "id": "227ec2b7-0fee-4ed4-a75d-2c4321d3bc1d",
   "metadata": {},
   "source": [
    "### Beispiele"
   ]
  },
  {
   "cell_type": "code",
   "execution_count": 6,
   "id": "606c3fa4-444f-494f-8f02-d6e74ec20fd4",
   "metadata": {},
   "outputs": [],
   "source": [
    "x = 10\n",
    "y = 20"
   ]
  },
  {
   "cell_type": "code",
   "execution_count": 7,
   "id": "26898feb-3a20-495c-8f6a-34af951dd40f",
   "metadata": {},
   "outputs": [
    {
     "data": {
      "text/plain": [
       "200"
      ]
     },
     "execution_count": 7,
     "metadata": {},
     "output_type": "execute_result"
    }
   ],
   "source": [
    "x * y"
   ]
  },
  {
   "cell_type": "code",
   "execution_count": 10,
   "id": "bbe58286-258d-4a57-aeb8-ab7075eb7fb9",
   "metadata": {},
   "outputs": [
    {
     "data": {
      "text/html": [
       "<div>\n",
       "<style scoped>\n",
       "    .dataframe tbody tr th:only-of-type {\n",
       "        vertical-align: middle;\n",
       "    }\n",
       "\n",
       "    .dataframe tbody tr th {\n",
       "        vertical-align: top;\n",
       "    }\n",
       "\n",
       "    .dataframe thead th {\n",
       "        text-align: right;\n",
       "    }\n",
       "</style>\n",
       "<table border=\"1\" class=\"dataframe\">\n",
       "  <thead>\n",
       "    <tr style=\"text-align: right;\">\n",
       "      <th></th>\n",
       "      <th>Spalte1</th>\n",
       "      <th>Spalte2</th>\n",
       "      <th>Spalte3</th>\n",
       "    </tr>\n",
       "  </thead>\n",
       "  <tbody>\n",
       "    <tr>\n",
       "      <th>0</th>\n",
       "      <td>1</td>\n",
       "      <td>4</td>\n",
       "      <td>A</td>\n",
       "    </tr>\n",
       "    <tr>\n",
       "      <th>1</th>\n",
       "      <td>2</td>\n",
       "      <td>5</td>\n",
       "      <td>B</td>\n",
       "    </tr>\n",
       "    <tr>\n",
       "      <th>2</th>\n",
       "      <td>3</td>\n",
       "      <td>6</td>\n",
       "      <td>C</td>\n",
       "    </tr>\n",
       "  </tbody>\n",
       "</table>\n",
       "</div>"
      ],
      "text/plain": [
       "   Spalte1  Spalte2 Spalte3\n",
       "0        1        4       A\n",
       "1        2        5       B\n",
       "2        3        6       C"
      ]
     },
     "execution_count": 10,
     "metadata": {},
     "output_type": "execute_result"
    }
   ],
   "source": [
    "import pandas as pd\n",
    "\n",
    "pd.DataFrame({ \"Spalte1\": [1, 2, 3], \"Spalte2\": [4, 5, 6], \"Spalte3\": [\"A\", \"B\", \"C\"] })"
   ]
  },
  {
   "cell_type": "code",
   "execution_count": 13,
   "id": "77f4d24a-5163-4731-b995-613093f4bdd2",
   "metadata": {},
   "outputs": [
    {
     "data": {
      "text/plain": [
       "<BarContainer object of 5 artists>"
      ]
     },
     "execution_count": 13,
     "metadata": {},
     "output_type": "execute_result"
    },
    {
     "data": {
      "image/png": "[encoded data removed]",
      "text/plain": [
       "<Figure size 640x480 with 1 Axes>"
      ]
     },
     "metadata": {},
     "output_type": "display_data"
    }
   ],
   "source": [
    "import matplotlib.pyplot as plt\n",
    "x = [3.4, 1.2, 8.4, 6.2, 7.3]\n",
    "y = [1, 2, 3, 4, 5]\n",
    "plt.bar(y, x)"
   ]
  },
  {
   "cell_type": "code",
   "execution_count": 16,
   "id": "70057b2d-23d5-4787-b1d7-684636ca8de6",
   "metadata": {},
   "outputs": [
    {
     "data": {
      "text/plain": [
       "[<matplotlib.lines.Line2D at 0x1bec1557410>]"
      ]
     },
     "execution_count": 16,
     "metadata": {},
     "output_type": "execute_result"
    },
    {
     "data": {
      "image/png": "[encoded data removed]",
      "text/plain": [
       "<Figure size 640x480 with 1 Axes>"
      ]
     },
     "metadata": {},
     "output_type": "display_data"
    }
   ],
   "source": [
    "plt.plot(x)"
   ]
  },
  {
   "cell_type": "markdown",
   "id": "6039b49f-ead0-48d2-9626-eabbde1ee456",
   "metadata": {},
   "source": [
    "### Shortcuts"
   ]
  },
  {
   "cell_type": "markdown",
   "id": "cd216713-87f8-4d25-b7f2-92da5d59c580",
   "metadata": {},
   "source": [
    "Shift/Strg + Enter: Zelle ausführen\n",
    "\n",
    "Pfeil Hoch/Runter: Zwischen Zellen bewegen (ohne Ausführen)\n",
    "\n",
    "Enter: Zelle betreten\n",
    "\n",
    "Escape: Zelle verlassen ohne Ausführen\n",
    "\n",
    "---\n",
    "\n",
    "A, B: Neue Zellen einfügen\n",
    "\n",
    "D + D: Zelle löschen\n",
    "\n",
    "Z, Shift + Z: Rückgängig, Wiederholen (ohne Strg)\n",
    "\n",
    "X, C, V: Cut, Copy, Paste (ohne Strg)\n",
    "\n",
    "M, Y: Zwischen Markdown und Code umschalten"
   ]
  }
 ],
 "metadata": {
  "kernelspec": {
   "display_name": "Python 3 (ipykernel)",
   "language": "python",
   "name": "python3"
  },
  "language_info": {
   "codemirror_mode": {
    "name": "ipython",
    "version": 3
   },
   "file_extension": ".py",
   "mimetype": "text/x-python",
   "name": "python",
   "nbconvert_exporter": "python",
   "pygments_lexer": "ipython3",
   "version": "3.12.3"
  }
 },
 "nbformat": 4,
 "nbformat_minor": 5
}
